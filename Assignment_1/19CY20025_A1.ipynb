{
 "cells": [
  {
   "cell_type": "markdown",
   "id": "dd118562",
   "metadata": {},
   "source": [
    "### `Assigmnent 1 - AI42001`\n",
    "\n",
    "**`Author     : Nishant Yadav`** \\\n",
    "**`Roll No.   : 19CY20025`** \\\n",
    "**`Created on : 12/09/2022`**"
   ]
  },
  {
   "cell_type": "markdown",
   "id": "0858c0c1",
   "metadata": {},
   "source": [
    "**`Importing relevant libraries`**"
   ]
  },
  {
   "cell_type": "code",
   "execution_count": 5,
   "id": "ab98da69",
   "metadata": {},
   "outputs": [],
   "source": [
    "import cv2\n",
    "import os\n",
    "import numpy as np"
   ]
  },
  {
   "cell_type": "markdown",
   "id": "c66617c5",
   "metadata": {},
   "source": [
    "**`Reading the video file and printing Frame Count`**"
   ]
  },
  {
   "cell_type": "code",
   "execution_count": 2,
   "id": "8c3d1c7a",
   "metadata": {},
   "outputs": [
    {
     "name": "stdout",
     "output_type": "stream",
     "text": [
      "Frame count of the video: 330.0\n"
     ]
    }
   ],
   "source": [
    "# Creating VideoCapture object to read the video frame by frame\n",
    "cap = cv2.VideoCapture('video-assignment-1.mp4')\n",
    "\n",
    "# Running a check, if it can access the video file\n",
    "if (cap.isOpened() == False):\n",
    "    print(\"Error accessing video\")\n",
    "else:\n",
    "    # Get the total frame count, cap.get(7)\n",
    "    frame_count = cap.get(7)\n",
    "    print('Frame count of the video:', frame_count)"
   ]
  },
  {
   "cell_type": "markdown",
   "id": "b94c4130",
   "metadata": {},
   "source": [
    "**`Quest to generate Key Frames using Image Arithmetic`**\n",
    "\n",
    "**`Algorithm:`**\n",
    "\n",
    "*`Here we are analysing two consecutive frames from the video`\n",
    "\n",
    "*`Calculation of absolute difference between two frames tell us about the change in particular pixels over the transition, it helps us to judge the extent of change over the transition`\n",
    "\n",
    "*`Now we are calculating the number of non-zero value in the image, gives us the pixels which are changed over transition`\n",
    "\n",
    "*`If the count of non-zero values exceeds a predefined threshold we judge it as a KeyFrame`"
   ]
  },
  {
   "cell_type": "code",
   "execution_count": 3,
   "id": "e5cb9dba",
   "metadata": {},
   "outputs": [
    {
     "name": "stdout",
     "output_type": "stream",
     "text": [
      "Writing keyFrame ====> 0\n",
      "Writing keyFrame ====> 1\n",
      "Writing keyFrame ====> 2\n",
      "Writing keyFrame ====> 3\n",
      "Writing keyFrame ====> 4\n",
      "Writing keyFrame ====> 5\n",
      "Writing keyFrame ====> 6\n",
      "Writing keyFrame ====> 7\n",
      "Writing keyFrame ====> 8\n",
      "Writing keyFrame ====> 9\n",
      "Writing keyFrame ====> 10\n",
      "Writing keyFrame ====> 11\n",
      "Writing keyFrame ====> 12\n",
      "Writing keyFrame ====> 13\n",
      "Writing keyFrame ====> 14\n",
      "Writing keyFrame ====> 15\n",
      "Writing keyFrame ====> 16\n",
      "Writing keyFrame ====> 17\n",
      "Writing keyFrame ====> 18\n",
      "Writing keyFrame ====> 19\n",
      "Writing keyFrame ====> 20\n",
      "Writing keyFrame ====> 21\n",
      "Writing keyFrame ====> 22\n",
      "Writing keyFrame ====> 23\n",
      "Writing keyFrame ====> 24\n",
      "Writing keyFrame ====> 25\n",
      "Writing keyFrame ====> 26\n",
      "Writing keyFrame ====> 27\n",
      "Writing keyFrame ====> 28\n",
      "Writing keyFrame ====> 29\n",
      "Writing keyFrame ====> 30\n",
      "Writing keyFrame ====> 31\n",
      "Writing keyFrame ====> 32\n",
      "Writing keyFrame ====> 33\n",
      "Writing keyFrame ====> 34\n",
      "Writing keyFrame ====> 35\n",
      "Number of Key Frames generated:  36\n"
     ]
    }
   ],
   "source": [
    "\"\"\"\n",
    "    Accessing a video file and operating on its frames\n",
    "\"\"\"\n",
    "\n",
    "\"\"\"\n",
    "    * Threshold is a functional of input video/image\n",
    "    * Threshold also depends on resolution of the image\n",
    "    * We may need to adjust this threshold to keep control over number of keyframes\n",
    "\"\"\"\n",
    "\n",
    "# Creating directory\n",
    "if not os.path.exists('keyframes'):\n",
    "    os.makedirs('keyframes')\n",
    "\n",
    "# Defining threshold\n",
    "key_frame_thresh = 9221100\n",
    "\n",
    "# Keeping a count of KeyFrames\n",
    "count = 0\n",
    "\n",
    "# Read the first frame\n",
    "ret, prev_frame = cap.read()\n",
    "\n",
    "while ret:\n",
    "    ret, curr_frame = cap.read()\n",
    "\n",
    "    if ret:\n",
    "        # Keeping a count of pixel values that changed\n",
    "        diff = cv2.absdiff(curr_frame, prev_frame)\n",
    "        diff_non_zero_count = np.count_nonzero(diff)\n",
    "        \n",
    "        # Applying a criteria to judge a frame as Key Frame\n",
    "        if diff_non_zero_count > key_frame_thresh:\n",
    "            \n",
    "            # Writing a Key Frame extracted to disk\n",
    "            print(\"Writing keyFrame ====> \" + str(count))\n",
    "            cv2.imwrite('keyframes/key_' + str(count) + '.png', curr_frame)\n",
    "            count += 1\n",
    "            prev_frame = curr_frame\n",
    "\n",
    "print(\"Number of Key Frames generated: \", count)"
   ]
  },
  {
   "cell_type": "markdown",
   "id": "96afe02d",
   "metadata": {},
   "source": [
    "**`Observation:`**\n",
    "\n",
    "`It was observed that around half the key frames revolves around 10, the reasoning behind this observation is that 10 is a two digit number and takes extra pixels glowing the make its image, if we are dealing with twice the space on screen it becomes more frequent for 10 to cross the threshold over transition from one frame to the next one`"
   ]
  },
  {
   "cell_type": "markdown",
   "id": "b9cfc460",
   "metadata": {},
   "source": [
    "**`Releasing the captured video sources`**"
   ]
  },
  {
   "cell_type": "code",
   "execution_count": 4,
   "id": "263dcd41",
   "metadata": {},
   "outputs": [],
   "source": [
    "# Releasing the video capture and writer objects\n",
    "cap.release()\n",
    "cv2.destroyAllWindows()"
   ]
  }
 ],
 "metadata": {
  "kernelspec": {
   "display_name": "Python 3 (ipykernel)",
   "language": "python",
   "name": "python3"
  },
  "language_info": {
   "codemirror_mode": {
    "name": "ipython",
    "version": 3
   },
   "file_extension": ".py",
   "mimetype": "text/x-python",
   "name": "python",
   "nbconvert_exporter": "python",
   "pygments_lexer": "ipython3",
   "version": "3.9.12"
  },
  "vscode": {
   "interpreter": {
    "hash": "b0fa6594d8f4cbf19f97940f81e996739fb7646882a419484c72d19e05852a7e"
   }
  }
 },
 "nbformat": 4,
 "nbformat_minor": 5
}
