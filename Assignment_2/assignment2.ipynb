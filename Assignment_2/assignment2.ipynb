{
  "cells": [
    {
      "cell_type": "markdown",
      "metadata": {
        "id": "4n63K3j-pxTz"
      },
      "source": [
        "## **`Assigmnent 2 - AI42001`**\n",
        "\n",
        "**`Author     : Nishant Yadav`** \\\n",
        "**`Roll No.   : 19CY20025`** \\\n",
        "**`Due on : 27/10/2022`**"
      ]
    },
    {
      "cell_type": "markdown",
      "metadata": {
        "id": "o7BjA4DNgSV2"
      },
      "source": [
        "###**`Importing relevant libraries`**"
      ]
    },
    {
      "cell_type": "code",
      "execution_count": null,
      "metadata": {
        "id": "1dx--a5AXV12"
      },
      "outputs": [],
      "source": [
        "import numpy as np\n",
        "import pandas as pd       \n",
        "import tensorflow as tf\n",
        "import matplotlib.pyplot as plt\n",
        "from sklearn.preprocessing import LabelBinarizer"
      ]
    },
    {
      "cell_type": "code",
      "execution_count": null,
      "metadata": {
        "id": "XwxTvatYerOa"
      },
      "outputs": [],
      "source": [
        "from tensorflow.keras.models import Sequential\n",
        "from tensorflow.keras.layers import Flatten\n",
        "from tensorflow.keras.layers import BatchNormalization\n",
        "from tensorflow.keras.layers import Activation\n",
        "from tensorflow.keras.layers import Dense\n",
        "from tensorflow.keras.optimizers import Adam\n",
        "from tensorflow.keras.datasets import mnist"
      ]
    },
    {
      "cell_type": "markdown",
      "metadata": {
        "id": "ukQLDTM3fJ5E"
      },
      "source": [
        "###**`Loading and Preprocessing MNIST Data`**\n",
        "\n",
        "\n"
      ]
    },
    {
      "cell_type": "code",
      "execution_count": null,
      "metadata": {
        "colab": {
          "base_uri": "https://localhost:8080/"
        },
        "id": "TLddbQTtesDz",
        "outputId": "52235397-be55-4e9f-f8c6-6ba0694dcd7a"
      },
      "outputs": [
        {
          "name": "stdout",
          "output_type": "stream",
          "text": [
            "MNIST dataset\n",
            "Shape of training data (60000, 28, 28)\n",
            "Shape of test data (10000, 28, 28)\n"
          ]
        }
      ],
      "source": [
        "((Xtrain, Ytrain), (Xtest, Ytest)) = mnist.load_data()\n",
        "print(\"MNIST dataset\")\n",
        "print('Shape of training data',Xtrain.shape)\n",
        "print('Shape of test data',Xtest.shape)"
      ]
    },
    {
      "cell_type": "code",
      "execution_count": null,
      "metadata": {
        "colab": {
          "base_uri": "https://localhost:8080/"
        },
        "id": "4nzbB1zde-Em",
        "outputId": "0b8d7df5-e4bb-4ec6-c263-5df33d880827"
      },
      "outputs": [
        {
          "data": {
            "image/png": "[encoded data removed]",
            "text/plain": [
              "<Figure size 432x288 with 2 Axes>"
            ]
          },
          "metadata": {
            "needs_background": "light"
          },
          "output_type": "display_data"
        },
        {
          "name": "stdout",
          "output_type": "stream",
          "text": [
            "Label: 3\n"
          ]
        }
      ],
      "source": [
        "# Checking if data loaded correctly\n",
        "\n",
        "plt.figure()\n",
        "plt.imshow(Xtrain[11111])\n",
        "plt.colorbar()\n",
        "plt.show()\n",
        "print(\"Label:\", Ytrain[11111])"
      ]
    },
    {
      "cell_type": "code",
      "execution_count": null,
      "metadata": {
        "colab": {
          "base_uri": "https://localhost:8080/"
        },
        "id": "oO4VDkRWgjvY",
        "outputId": "8047cba5-74a3-4ea6-a78a-cacff590ea8d"
      },
      "outputs": [
        {
          "data": {
            "image/png": "[encoded data removed]",
            "text/plain": [
              "<Figure size 432x288 with 2 Axes>"
            ]
          },
          "metadata": {
            "needs_background": "light"
          },
          "output_type": "display_data"
        },
        {
          "name": "stdout",
          "output_type": "stream",
          "text": [
            "3\n"
          ]
        }
      ],
      "source": [
        "# Preprocessing is required to normalize the range of features from [0, 255] --> [0, 1]\n",
        "\n",
        "Xtrain = Xtrain.astype(\"float32\") / 255.0\n",
        "Xtest = Xtest.astype(\"float32\") / 255.0\n",
        "plt.figure()\n",
        "plt.imshow(Xtrain[11111])\n",
        "plt.colorbar()\n",
        "plt.show()\n",
        "print(Ytrain[11111])"
      ]
    },
    {
      "cell_type": "code",
      "execution_count": null,
      "metadata": {
        "id": "sKcZRFGqhOlf"
      },
      "outputs": [],
      "source": [
        "# convert the labels from integers to vectors\n",
        "# [Label = '3']  ---> [0, 0, 0, 1, 0, 0, 0, 0, 0, 0]\n",
        "Ytrain = LabelBinarizer().fit_transform(Ytrain)\n",
        "Ytest = LabelBinarizer().fit_transform(Ytest)"
      ]
    },
    {
      "cell_type": "markdown",
      "metadata": {
        "id": "4j-9QYHshrul"
      },
      "source": [
        "###**`Defining Architecture ANNs`**"
      ]
    },
    {
      "cell_type": "code",
      "execution_count": null,
      "metadata": {
        "id": "RsSJyyznh8hV"
      },
      "outputs": [],
      "source": [
        "# Model 1: (784 - 10... 10 layers ...10 - 10)\n",
        "# This model contains 10 hidden layers, each containing 10 neurons\n",
        "\n",
        "model1 = Sequential()\n",
        "model1.add(Flatten(input_shape=(28,28)))\n",
        "for i in range(10):\n",
        "    model1.add(Dense(10))\n",
        "    model1.add(Activation(\"sigmoid\"))\n",
        "    model1.add(BatchNormalization())\n",
        "model1.add(Dense(10, activation=\"sigmoid\"))"
      ]
    },
    {
      "cell_type": "code",
      "execution_count": null,
      "metadata": {
        "id": "JhnkgbtXkk89"
      },
      "outputs": [],
      "source": [
        "# Model 2: (784 - 10... 10 layers ...10 - 10)\n",
        "# This model contains 10 hidden layers, each containing 10 neurons\n",
        "\n",
        "model2 = Sequential()\n",
        "model2.add(Flatten(input_shape=(28,28)))\n",
        "for i in range(10):\n",
        "    model2.add(Dense(10))\n",
        "    model2.add(Activation(\"relu\"))\n",
        "    model2.add(BatchNormalization())\n",
        "model2.add(Dense(10, activation=\"sigmoid\"))"
      ]
    },
    {
      "cell_type": "markdown",
      "metadata": {
        "id": "sWSeM1kbm73x"
      },
      "source": [
        "###**`Training ANNs`**"
      ]
    },
    {
      "cell_type": "code",
      "execution_count": null,
      "metadata": {
        "colab": {
          "base_uri": "https://localhost:8080/"
        },
        "id": "5eMgqQ2Siw4s",
        "outputId": "ea332cdf-f2ae-4036-ac66-a1322c9220e7"
      },
      "outputs": [
        {
          "name": "stdout",
          "output_type": "stream",
          "text": [
            "Epoch 1/20\n",
            "938/938 [==============================] - 9s 6ms/step - loss: 1.5256 - accuracy: 0.5137 - val_loss: 1.0429 - val_accuracy: 0.7029\n",
            "Epoch 2/20\n",
            "938/938 [==============================] - 9s 10ms/step - loss: 0.9580 - accuracy: 0.7380 - val_loss: 0.7455 - val_accuracy: 0.8040\n",
            "Epoch 3/20\n",
            "938/938 [==============================] - 11s 12ms/step - loss: 0.7498 - accuracy: 0.7977 - val_loss: 0.6022 - val_accuracy: 0.8411\n",
            "Epoch 4/20\n",
            "938/938 [==============================] - 5s 6ms/step - loss: 0.6389 - accuracy: 0.8246 - val_loss: 0.5179 - val_accuracy: 0.8575\n",
            "Epoch 5/20\n",
            "938/938 [==============================] - 5s 5ms/step - loss: 0.5687 - accuracy: 0.8408 - val_loss: 0.4624 - val_accuracy: 0.8725\n",
            "Epoch 6/20\n",
            "938/938 [==============================] - 5s 5ms/step - loss: 0.5175 - accuracy: 0.8528 - val_loss: 0.4233 - val_accuracy: 0.8786\n",
            "Epoch 7/20\n",
            "938/938 [==============================] - 5s 6ms/step - loss: 0.4814 - accuracy: 0.8618 - val_loss: 0.3973 - val_accuracy: 0.8853\n",
            "Epoch 8/20\n",
            "938/938 [==============================] - 6s 7ms/step - loss: 0.4565 - accuracy: 0.8683 - val_loss: 0.3748 - val_accuracy: 0.8913\n",
            "Epoch 9/20\n",
            "938/938 [==============================] - 5s 6ms/step - loss: 0.4335 - accuracy: 0.8754 - val_loss: 0.3605 - val_accuracy: 0.8952\n",
            "Epoch 10/20\n",
            "938/938 [==============================] - 5s 6ms/step - loss: 0.4163 - accuracy: 0.8796 - val_loss: 0.3404 - val_accuracy: 0.9008\n",
            "Epoch 11/20\n",
            "938/938 [==============================] - 5s 6ms/step - loss: 0.3988 - accuracy: 0.8844 - val_loss: 0.3283 - val_accuracy: 0.9057\n",
            "Epoch 12/20\n",
            "938/938 [==============================] - 6s 6ms/step - loss: 0.3797 - accuracy: 0.8902 - val_loss: 0.3149 - val_accuracy: 0.9090\n",
            "Epoch 13/20\n",
            "938/938 [==============================] - 5s 6ms/step - loss: 0.3697 - accuracy: 0.8938 - val_loss: 0.3036 - val_accuracy: 0.9124\n",
            "Epoch 14/20\n",
            "938/938 [==============================] - 5s 5ms/step - loss: 0.3501 - accuracy: 0.8988 - val_loss: 0.2922 - val_accuracy: 0.9159\n",
            "Epoch 15/20\n",
            "938/938 [==============================] - 5s 5ms/step - loss: 0.3408 - accuracy: 0.9013 - val_loss: 0.2842 - val_accuracy: 0.9170\n",
            "Epoch 16/20\n",
            "938/938 [==============================] - 6s 6ms/step - loss: 0.3282 - accuracy: 0.9058 - val_loss: 0.2730 - val_accuracy: 0.9195\n",
            "Epoch 17/20\n",
            "938/938 [==============================] - 5s 6ms/step - loss: 0.3180 - accuracy: 0.9079 - val_loss: 0.2669 - val_accuracy: 0.9221\n",
            "Epoch 18/20\n",
            "938/938 [==============================] - 5s 6ms/step - loss: 0.3088 - accuracy: 0.9106 - val_loss: 0.2581 - val_accuracy: 0.9236\n",
            "Epoch 19/20\n",
            "938/938 [==============================] - 6s 6ms/step - loss: 0.3015 - accuracy: 0.9119 - val_loss: 0.2526 - val_accuracy: 0.9259\n",
            "Epoch 20/20\n",
            "938/938 [==============================] - 6s 6ms/step - loss: 0.2957 - accuracy: 0.9139 - val_loss: 0.2449 - val_accuracy: 0.9264\n"
          ]
        }
      ],
      "source": [
        "# Train Model 1 using ADAM Optimizer\n",
        "\n",
        "eCount = 20\n",
        "batch_size = 64\n",
        "model1.compile(loss = \"categorical_crossentropy\", optimizer = Adam(learning_rate=0.0001), metrics = [\"accuracy\"])\n",
        "Hyp1 = model1.fit(Xtrain, Ytrain, validation_data=(Xtest,Ytest), epochs = eCount, batch_size = batch_size)"
      ]
    },
    {
      "cell_type": "code",
      "execution_count": null,
      "metadata": {
        "colab": {
          "base_uri": "https://localhost:8080/"
        },
        "id": "XAUXj6s7lIqe",
        "outputId": "a2b287f5-ac0d-46e9-a0c7-38073e4864d3"
      },
      "outputs": [
        {
          "name": "stdout",
          "output_type": "stream",
          "text": [
            "Epoch 1/20\n",
            "938/938 [==============================] - 9s 6ms/step - loss: 2.1783 - accuracy: 0.2485 - val_loss: 1.8481 - val_accuracy: 0.3863\n",
            "Epoch 2/20\n",
            "938/938 [==============================] - 5s 5ms/step - loss: 1.7249 - accuracy: 0.4246 - val_loss: 1.4776 - val_accuracy: 0.5138\n",
            "Epoch 3/20\n",
            "938/938 [==============================] - 5s 6ms/step - loss: 1.4195 - accuracy: 0.5350 - val_loss: 1.1987 - val_accuracy: 0.6088\n",
            "Epoch 4/20\n",
            "938/938 [==============================] - 5s 6ms/step - loss: 1.1970 - accuracy: 0.6084 - val_loss: 0.9970 - val_accuracy: 0.6700\n",
            "Epoch 5/20\n",
            "938/938 [==============================] - 5s 6ms/step - loss: 1.0341 - accuracy: 0.6604 - val_loss: 0.8360 - val_accuracy: 0.7385\n",
            "Epoch 6/20\n",
            "938/938 [==============================] - 5s 5ms/step - loss: 0.9060 - accuracy: 0.7105 - val_loss: 0.7425 - val_accuracy: 0.7758\n",
            "Epoch 7/20\n",
            "938/938 [==============================] - 5s 5ms/step - loss: 0.8250 - accuracy: 0.7391 - val_loss: 0.6762 - val_accuracy: 0.7909\n",
            "Epoch 8/20\n",
            "938/938 [==============================] - 5s 6ms/step - loss: 0.7615 - accuracy: 0.7625 - val_loss: 0.6235 - val_accuracy: 0.8087\n",
            "Epoch 9/20\n",
            "938/938 [==============================] - 6s 6ms/step - loss: 0.7176 - accuracy: 0.7797 - val_loss: 0.5742 - val_accuracy: 0.8337\n",
            "Epoch 10/20\n",
            "938/938 [==============================] - 5s 6ms/step - loss: 0.6817 - accuracy: 0.7964 - val_loss: 0.5464 - val_accuracy: 0.8433\n",
            "Epoch 11/20\n",
            "938/938 [==============================] - 5s 5ms/step - loss: 0.6414 - accuracy: 0.8131 - val_loss: 0.5066 - val_accuracy: 0.8613\n",
            "Epoch 12/20\n",
            "938/938 [==============================] - 5s 5ms/step - loss: 0.6066 - accuracy: 0.8263 - val_loss: 0.4836 - val_accuracy: 0.8659\n",
            "Epoch 13/20\n",
            "938/938 [==============================] - 5s 5ms/step - loss: 0.5757 - accuracy: 0.8372 - val_loss: 0.4670 - val_accuracy: 0.8746\n",
            "Epoch 14/20\n",
            "938/938 [==============================] - 5s 5ms/step - loss: 0.5609 - accuracy: 0.8414 - val_loss: 0.4475 - val_accuracy: 0.8794\n",
            "Epoch 15/20\n",
            "938/938 [==============================] - 5s 5ms/step - loss: 0.5352 - accuracy: 0.8502 - val_loss: 0.4306 - val_accuracy: 0.8854\n",
            "Epoch 16/20\n",
            "938/938 [==============================] - 5s 6ms/step - loss: 0.5224 - accuracy: 0.8537 - val_loss: 0.4160 - val_accuracy: 0.8895\n",
            "Epoch 17/20\n",
            "938/938 [==============================] - 5s 5ms/step - loss: 0.5066 - accuracy: 0.8593 - val_loss: 0.4062 - val_accuracy: 0.8899\n",
            "Epoch 18/20\n",
            "938/938 [==============================] - 5s 6ms/step - loss: 0.4888 - accuracy: 0.8637 - val_loss: 0.3904 - val_accuracy: 0.8967\n",
            "Epoch 19/20\n",
            "938/938 [==============================] - 5s 6ms/step - loss: 0.4814 - accuracy: 0.8669 - val_loss: 0.3860 - val_accuracy: 0.8963\n",
            "Epoch 20/20\n",
            "938/938 [==============================] - 5s 6ms/step - loss: 0.4684 - accuracy: 0.8706 - val_loss: 0.3807 - val_accuracy: 0.8980\n"
          ]
        }
      ],
      "source": [
        "# Train Model 2 using ADAM Optimizer\n",
        "\n",
        "batch_size = 64\n",
        "model2.compile(loss = \"categorical_crossentropy\", optimizer = Adam(learning_rate=0.0001), metrics = [\"accuracy\"])\n",
        "Hyp2 = model2.fit(Xtrain, Ytrain, validation_data=(Xtest,Ytest), epochs = eCount, batch_size = batch_size)"
      ]
    },
    {
      "cell_type": "markdown",
      "metadata": {
        "id": "w3Cs8-AdnD2c"
      },
      "source": [
        "###**`Evaluating Performance of ANNs on Test Data and Comparision`**"
      ]
    },
    {
      "cell_type": "code",
      "execution_count": null,
      "metadata": {
        "colab": {
          "base_uri": "https://localhost:8080/"
        },
        "id": "2Vi1R3WMnIze",
        "outputId": "615fc366-2e1e-411c-be4b-c05dbf41b996"
      },
      "outputs": [
        {
          "name": "stdout",
          "output_type": "stream",
          "text": [
            "Evaluating ANN Model 1 ...\n",
            "313/313 [==============================] - 1s 2ms/step - loss: 0.2449 - accuracy: 0.9264\n",
            "Evaluating ANN Model 2 ...\n",
            "313/313 [==============================] - 1s 2ms/step - loss: 0.3807 - accuracy: 0.8980\n",
            "Accuracy of Model 1 on Testing data: 92.64000058174133 %\n",
            "Accuracy of Model 2 on Testing data: 89.80000019073486 %\n"
          ]
        }
      ],
      "source": [
        "# evaluating the networks on the testing data to obtain our final classifications\n",
        "\n",
        "print(\"Evaluating ANN Model 1 ...\")\n",
        "test_loss1, test_acc1 = model1.evaluate(Xtest,  Ytest)\n",
        "\n",
        "print(\"Evaluating ANN Model 2 ...\")\n",
        "test_loss2, test_acc2 = model2.evaluate(Xtest,  Ytest)\n",
        "\n",
        "print(\"Accuracy of Model 1 on Testing data: {} %\".format(test_acc1*100))\n",
        "print(\"Accuracy of Model 2 on Testing data: {} %\".format(test_acc2*100))"
      ]
    },
    {
      "cell_type": "markdown",
      "metadata": {
        "id": "SakKmU90n6TD"
      },
      "source": [
        "###**`Plotting Training Loss and Accuracy for ANNs`**\n",
        "\n"
      ]
    },
    {
      "cell_type": "code",
      "execution_count": null,
      "metadata": {
        "colab": {
          "base_uri": "https://localhost:8080/",
          "height": 295
        },
        "id": "9KmgQIXVoA_g",
        "outputId": "2692c026-e72c-47c3-da7b-9de442ad15b1"
      },
      "outputs": [
        {
          "data": {
            "image/png": "[encoded data removed]",
            "text/plain": [
              "<Figure size 432x288 with 1 Axes>"
            ]
          },
          "metadata": {
            "needs_background": "light"
          },
          "output_type": "display_data"
        }
      ],
      "source": [
        "plt.figure()\n",
        "plt.plot(np.arange(0, eCount), Hyp1.history[\"loss\"], label=\"train_loss\")\n",
        "plt.plot(np.arange(0, eCount), Hyp1.history[\"val_loss\"], label=\"val_loss\")\n",
        "plt.plot(np.arange(0, eCount), Hyp1.history[\"accuracy\"], label=\"train_acc\")\n",
        "plt.plot(np.arange(0, eCount), Hyp1.history[\"val_accuracy\"], label=\"val_acc\")\n",
        "plt.title(\"Training Loss and Accuracy for Model 1\")\n",
        "plt.xlabel(\"Epoch #\")\n",
        "plt.ylabel(\"Loss/Accuracy\")\n",
        "plt.legend()\n",
        "plt.show()"
      ]
    },
    {
      "cell_type": "code",
      "execution_count": null,
      "metadata": {
        "colab": {
          "base_uri": "https://localhost:8080/",
          "height": 295
        },
        "id": "lIChevUmo_io",
        "outputId": "4122332a-6955-4c91-baf1-b461d4d98bcb"
      },
      "outputs": [
        {
          "data": {
            "image/png": "[encoded data removed]",
            "text/plain": [
              "<Figure size 432x288 with 1 Axes>"
            ]
          },
          "metadata": {
            "needs_background": "light"
          },
          "output_type": "display_data"
        }
      ],
      "source": [
        "plt.figure()\n",
        "plt.plot(np.arange(0, eCount), Hyp2.history[\"loss\"], label=\"train_loss\")\n",
        "plt.plot(np.arange(0, eCount), Hyp2.history[\"val_loss\"], label=\"val_loss\")\n",
        "plt.plot(np.arange(0, eCount), Hyp2.history[\"accuracy\"], label=\"train_acc\")\n",
        "plt.plot(np.arange(0, eCount), Hyp2.history[\"val_accuracy\"], label=\"val_acc\")\n",
        "plt.title(\"Training Loss and Accuracy for Model 2\")\n",
        "plt.xlabel(\"Epoch #\")\n",
        "plt.ylabel(\"Loss/Accuracy\")\n",
        "plt.legend()\n",
        "plt.show()"
      ]
    },
    {
      "cell_type": "markdown",
      "metadata": {
        "id": "wYA3KBAdyV_p"
      },
      "source": [
        "###**`Summary of Models of ANNs`**"
      ]
    },
    {
      "cell_type": "code",
      "execution_count": null,
      "metadata": {
        "colab": {
          "base_uri": "https://localhost:8080/"
        },
        "id": "wGE6r8H4ybtP",
        "outputId": "56b1fce7-c5f9-4575-b4f2-5179b70a435d"
      },
      "outputs": [
        {
          "name": "stdout",
          "output_type": "stream",
          "text": [
            "Model: \"sequential\"\n",
            "_________________________________________________________________\n",
            " Layer (type)                Output Shape              Param #   \n",
            "=================================================================\n",
            " flatten (Flatten)           (None, 784)               0         \n",
            "                                                                 \n",
            " dense (Dense)               (None, 10)                7850      \n",
            "                                                                 \n",
            " activation (Activation)     (None, 10)                0         \n",
            "                                                                 \n",
            " batch_normalization (BatchN  (None, 10)               40        \n",
            " ormalization)                                                   \n",
            "                                                                 \n",
            " dense_1 (Dense)             (None, 10)                110       \n",
            "                                                                 \n",
            " activation_1 (Activation)   (None, 10)                0         \n",
            "                                                                 \n",
            " batch_normalization_1 (Batc  (None, 10)               40        \n",
            " hNormalization)                                                 \n",
            "                                                                 \n",
            " dense_2 (Dense)             (None, 10)                110       \n",
            "                                                                 \n",
            " activation_2 (Activation)   (None, 10)                0         \n",
            "                                                                 \n",
            " batch_normalization_2 (Batc  (None, 10)               40        \n",
            " hNormalization)                                                 \n",
            "                                                                 \n",
            " dense_3 (Dense)             (None, 10)                110       \n",
            "                                                                 \n",
            " activation_3 (Activation)   (None, 10)                0         \n",
            "                                                                 \n",
            " batch_normalization_3 (Batc  (None, 10)               40        \n",
            " hNormalization)                                                 \n",
            "                                                                 \n",
            " dense_4 (Dense)             (None, 10)                110       \n",
            "                                                                 \n",
            " activation_4 (Activation)   (None, 10)                0         \n",
            "                                                                 \n",
            " batch_normalization_4 (Batc  (None, 10)               40        \n",
            " hNormalization)                                                 \n",
            "                                                                 \n",
            " dense_5 (Dense)             (None, 10)                110       \n",
            "                                                                 \n",
            " activation_5 (Activation)   (None, 10)                0         \n",
            "                                                                 \n",
            " batch_normalization_5 (Batc  (None, 10)               40        \n",
            " hNormalization)                                                 \n",
            "                                                                 \n",
            " dense_6 (Dense)             (None, 10)                110       \n",
            "                                                                 \n",
            " activation_6 (Activation)   (None, 10)                0         \n",
            "                                                                 \n",
            " batch_normalization_6 (Batc  (None, 10)               40        \n",
            " hNormalization)                                                 \n",
            "                                                                 \n",
            " dense_7 (Dense)             (None, 10)                110       \n",
            "                                                                 \n",
            " activation_7 (Activation)   (None, 10)                0         \n",
            "                                                                 \n",
            " batch_normalization_7 (Batc  (None, 10)               40        \n",
            " hNormalization)                                                 \n",
            "                                                                 \n",
            " dense_8 (Dense)             (None, 10)                110       \n",
            "                                                                 \n",
            " activation_8 (Activation)   (None, 10)                0         \n",
            "                                                                 \n",
            " batch_normalization_8 (Batc  (None, 10)               40        \n",
            " hNormalization)                                                 \n",
            "                                                                 \n",
            " dense_9 (Dense)             (None, 10)                110       \n",
            "                                                                 \n",
            " activation_9 (Activation)   (None, 10)                0         \n",
            "                                                                 \n",
            " batch_normalization_9 (Batc  (None, 10)               40        \n",
            " hNormalization)                                                 \n",
            "                                                                 \n",
            " dense_10 (Dense)            (None, 10)                110       \n",
            "                                                                 \n",
            "=================================================================\n",
            "Total params: 9,350\n",
            "Trainable params: 9,150\n",
            "Non-trainable params: 200\n",
            "_________________________________________________________________\n"
          ]
        }
      ],
      "source": [
        "model1.summary()"
      ]
    },
    {
      "cell_type": "code",
      "execution_count": null,
      "metadata": {
        "colab": {
          "base_uri": "https://localhost:8080/"
        },
        "id": "DtnTQM0JzjvM",
        "outputId": "4e4bf87b-44fa-432d-8c39-7e77d020597a"
      },
      "outputs": [
        {
          "name": "stdout",
          "output_type": "stream",
          "text": [
            "Model: \"sequential_1\"\n",
            "_________________________________________________________________\n",
            " Layer (type)                Output Shape              Param #   \n",
            "=================================================================\n",
            " flatten_1 (Flatten)         (None, 784)               0         \n",
            "                                                                 \n",
            " dense_11 (Dense)            (None, 10)                7850      \n",
            "                                                                 \n",
            " activation_10 (Activation)  (None, 10)                0         \n",
            "                                                                 \n",
            " batch_normalization_10 (Bat  (None, 10)               40        \n",
            " chNormalization)                                                \n",
            "                                                                 \n",
            " dense_12 (Dense)            (None, 10)                110       \n",
            "                                                                 \n",
            " activation_11 (Activation)  (None, 10)                0         \n",
            "                                                                 \n",
            " batch_normalization_11 (Bat  (None, 10)               40        \n",
            " chNormalization)                                                \n",
            "                                                                 \n",
            " dense_13 (Dense)            (None, 10)                110       \n",
            "                                                                 \n",
            " activation_12 (Activation)  (None, 10)                0         \n",
            "                                                                 \n",
            " batch_normalization_12 (Bat  (None, 10)               40        \n",
            " chNormalization)                                                \n",
            "                                                                 \n",
            " dense_14 (Dense)            (None, 10)                110       \n",
            "                                                                 \n",
            " activation_13 (Activation)  (None, 10)                0         \n",
            "                                                                 \n",
            " batch_normalization_13 (Bat  (None, 10)               40        \n",
            " chNormalization)                                                \n",
            "                                                                 \n",
            " dense_15 (Dense)            (None, 10)                110       \n",
            "                                                                 \n",
            " activation_14 (Activation)  (None, 10)                0         \n",
            "                                                                 \n",
            " batch_normalization_14 (Bat  (None, 10)               40        \n",
            " chNormalization)                                                \n",
            "                                                                 \n",
            " dense_16 (Dense)            (None, 10)                110       \n",
            "                                                                 \n",
            " activation_15 (Activation)  (None, 10)                0         \n",
            "                                                                 \n",
            " batch_normalization_15 (Bat  (None, 10)               40        \n",
            " chNormalization)                                                \n",
            "                                                                 \n",
            " dense_17 (Dense)            (None, 10)                110       \n",
            "                                                                 \n",
            " activation_16 (Activation)  (None, 10)                0         \n",
            "                                                                 \n",
            " batch_normalization_16 (Bat  (None, 10)               40        \n",
            " chNormalization)                                                \n",
            "                                                                 \n",
            " dense_18 (Dense)            (None, 10)                110       \n",
            "                                                                 \n",
            " activation_17 (Activation)  (None, 10)                0         \n",
            "                                                                 \n",
            " batch_normalization_17 (Bat  (None, 10)               40        \n",
            " chNormalization)                                                \n",
            "                                                                 \n",
            " dense_19 (Dense)            (None, 10)                110       \n",
            "                                                                 \n",
            " activation_18 (Activation)  (None, 10)                0         \n",
            "                                                                 \n",
            " batch_normalization_18 (Bat  (None, 10)               40        \n",
            " chNormalization)                                                \n",
            "                                                                 \n",
            " dense_20 (Dense)            (None, 10)                110       \n",
            "                                                                 \n",
            " activation_19 (Activation)  (None, 10)                0         \n",
            "                                                                 \n",
            " batch_normalization_19 (Bat  (None, 10)               40        \n",
            " chNormalization)                                                \n",
            "                                                                 \n",
            " dense_21 (Dense)            (None, 10)                110       \n",
            "                                                                 \n",
            "=================================================================\n",
            "Total params: 9,350\n",
            "Trainable params: 9,150\n",
            "Non-trainable params: 200\n",
            "_________________________________________________________________\n"
          ]
        }
      ],
      "source": [
        "model2.summary()"
      ]
    }
  ],
  "metadata": {
    "colab": {
      "collapsed_sections": [
        "o7BjA4DNgSV2",
        "ukQLDTM3fJ5E",
        "4j-9QYHshrul",
        "sWSeM1kbm73x",
        "w3Cs8-AdnD2c",
        "SakKmU90n6TD",
        "wYA3KBAdyV_p"
      ],
      "provenance": []
    },
    "kernelspec": {
      "display_name": "Python 3.10.8 64-bit",
      "language": "python",
      "name": "python3"
    },
    "language_info": {
      "name": "python",
      "version": "3.10.8"
    },
    "vscode": {
      "interpreter": {
        "hash": "b0fa6594d8f4cbf19f97940f81e996739fb7646882a419484c72d19e05852a7e"
      }
    }
  },
  "nbformat": 4,
  "nbformat_minor": 0
}
