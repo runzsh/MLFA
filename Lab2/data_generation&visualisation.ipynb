{
 "cells": [
  {
   "cell_type": "markdown",
   "metadata": {},
   "source": [
    "# File\n",
    "It permanently stores data in non-volatile memory, names location on disc to store related information. \n",
    "\n",
    "Operations: 1.open 2.read or write 3.close \n",
    "\n",
    "f=open('file.txt',mode) default mode is read mode('r') \n",
    "\n",
    "f.close() return empty values when end of file is reached"
   ]
  },
  {
   "cell_type": "code",
   "execution_count": 1,
   "metadata": {},
   "outputs": [],
   "source": [
    "f=open(\"test.txt\",\"w\")#if already exists overwrite otherwise create a new one\n",
    "f.write(\"this is the first file\\n\")\n",
    "f.write(\"this is just the starting\\n\")\n",
    "f.close()"
   ]
  },
  {
   "cell_type": "code",
   "execution_count": 3,
   "metadata": {},
   "outputs": [
    {
     "data": {
      "text/plain": [
       "'this is the first file\\nthis is just the starting\\n'"
      ]
     },
     "execution_count": 3,
     "metadata": {},
     "output_type": "execute_result"
    }
   ],
   "source": [
    "f=open(\"test.txt\",\"r\")\n",
    "f.read()"
   ]
  },
  {
   "cell_type": "code",
   "execution_count": 4,
   "metadata": {},
   "outputs": [
    {
     "data": {
      "text/plain": [
       "'this is'"
      ]
     },
     "execution_count": 4,
     "metadata": {},
     "output_type": "execute_result"
    }
   ],
   "source": [
    "f=open(\"test.txt\",\"r\")\n",
    "f.read(7)"
   ]
  },
  {
   "cell_type": "code",
   "execution_count": 5,
   "metadata": {},
   "outputs": [
    {
     "data": {
      "text/plain": [
       "' the fi'"
      ]
     },
     "execution_count": 5,
     "metadata": {},
     "output_type": "execute_result"
    }
   ],
   "source": [
    "f.read(7)"
   ]
  },
  {
   "cell_type": "code",
   "execution_count": 6,
   "metadata": {},
   "outputs": [
    {
     "data": {
      "text/plain": [
       "14"
      ]
     },
     "execution_count": 6,
     "metadata": {},
     "output_type": "execute_result"
    }
   ],
   "source": [
    "f.tell()#tells current cursor location"
   ]
  },
  {
   "cell_type": "code",
   "execution_count": 7,
   "metadata": {},
   "outputs": [
    {
     "data": {
      "text/plain": [
       "6"
      ]
     },
     "execution_count": 7,
     "metadata": {},
     "output_type": "execute_result"
    }
   ],
   "source": [
    "f.seek(6)#brings the cursor to said location"
   ]
  },
  {
   "cell_type": "code",
   "execution_count": 8,
   "metadata": {},
   "outputs": [
    {
     "name": "stdout",
     "output_type": "stream",
     "text": [
      "s the first file\n",
      "this is just the starting\n",
      "\n"
     ]
    }
   ],
   "source": [
    "print(f.read())"
   ]
  },
  {
   "cell_type": "code",
   "execution_count": 9,
   "metadata": {},
   "outputs": [
    {
     "name": "stdout",
     "output_type": "stream",
     "text": [
      "this is the first file\n",
      "\n",
      "this is just the starting\n",
      "\n"
     ]
    },
    {
     "data": {
      "text/plain": [
       "'this is the first file\\n'"
      ]
     },
     "execution_count": 9,
     "metadata": {},
     "output_type": "execute_result"
    }
   ],
   "source": [
    "f.seek(0)\n",
    "for line in f:\n",
    "    print(line)\n",
    "    \n",
    "f=open(\"test.txt\",\"r\")\n",
    "f.readline()#reads first line"
   ]
  },
  {
   "cell_type": "code",
   "execution_count": 10,
   "metadata": {},
   "outputs": [
    {
     "data": {
      "text/plain": [
       "'this is just the starting\\n'"
      ]
     },
     "execution_count": 10,
     "metadata": {},
     "output_type": "execute_result"
    }
   ],
   "source": [
    "f.readline()#reads next line"
   ]
  },
  {
   "cell_type": "code",
   "execution_count": 11,
   "metadata": {},
   "outputs": [
    {
     "data": {
      "text/plain": [
       "['this is the first file\\n', 'this is just the starting\\n']"
      ]
     },
     "execution_count": 11,
     "metadata": {},
     "output_type": "execute_result"
    }
   ],
   "source": [
    "f.seek(0)\n",
    "f.readlines()# return all remaining lines in a list"
   ]
  },
  {
   "cell_type": "code",
   "execution_count": 12,
   "metadata": {},
   "outputs": [
    {
     "name": "stdout",
     "output_type": "stream",
     "text": [
      "this is the first file\n",
      "this is just the starting\n",
      "The file has been rewritten\n"
     ]
    }
   ],
   "source": [
    "f = open(\"test.txt\", 'a+')\n",
    "f.write(\"The file has been rewritten\")\n",
    "f.seek(0)\n",
    "print(f.read())"
   ]
  },
  {
   "cell_type": "code",
   "execution_count": 13,
   "metadata": {},
   "outputs": [
    {
     "name": "stdout",
     "output_type": "stream",
     "text": [
      "this is the first file\n",
      "this is just the starting\n",
      "The file has been rewritten\n",
      "This is a new line\n"
     ]
    }
   ],
   "source": [
    "f = open(\"test.txt\", 'a+')\n",
    "f.write(\"\\nThis is a new line\")\n",
    "f.seek(0)\n",
    "print(f.read())"
   ]
  },
  {
   "cell_type": "code",
   "execution_count": 14,
   "metadata": {},
   "outputs": [],
   "source": [
    "import os\n",
    "os.rename(\"test.txt\",\"sample.txt\")"
   ]
  },
  {
   "cell_type": "code",
   "execution_count": 15,
   "metadata": {},
   "outputs": [
    {
     "data": {
      "text/plain": [
       "'this is the first file\\n'"
      ]
     },
     "execution_count": 15,
     "metadata": {},
     "output_type": "execute_result"
    }
   ],
   "source": [
    "f=open(\"sample.txt\",\"r\")\n",
    "f.readline()"
   ]
  },
  {
   "cell_type": "code",
   "execution_count": null,
   "metadata": {},
   "outputs": [],
   "source": [
    "os.remove(\"sample.txt\")"
   ]
  },
  {
   "cell_type": "markdown",
   "metadata": {},
   "source": [
    "# Plots"
   ]
  },
  {
   "cell_type": "code",
   "execution_count": null,
   "metadata": {},
   "outputs": [],
   "source": [
    "# Loading the packages \n",
    "import numpy as np\n",
    "import pandas as pd\n",
    "import matplotlib as mpl\n",
    "import matplotlib.pyplot as plt\n",
    "import seaborn as sns"
   ]
  },
  {
   "cell_type": "markdown",
   "metadata": {},
   "source": [
    "# Barplot\n",
    "\n",
    "A bar chart can be created using the bar method. The bar-chart is useful for categorical data that doesn’t have a lot of different categories (less than 30) because else it can get quite messy."
   ]
  },
  {
   "cell_type": "code",
   "execution_count": null,
   "metadata": {},
   "outputs": [],
   "source": [
    "# Make a fake dataset:\n",
    "height = [3, 12, 5, 18, 45]\n",
    "bars = ('A', 'B', 'C', 'D', 'E')\n",
    "\n",
    "# Create bars\n",
    "plt.bar(bars, height)\n",
    " \n",
    "# Create names on the x-axis\n",
    "plt.xticks(bars)\n",
    " \n",
    "# Show graphic\n",
    "plt.show()"
   ]
  },
  {
   "cell_type": "markdown",
   "metadata": {},
   "source": [
    "---\n",
    "## Horizontal Barplot\n",
    "---"
   ]
  },
  {
   "cell_type": "code",
   "execution_count": null,
   "metadata": {},
   "outputs": [],
   "source": [
    "# Create horizontal bars\n",
    "plt.barh(bars, height)\n",
    " \n",
    "# Create names on the y-axis\n",
    "plt.yticks(bars)\n",
    " \n",
    "# Show graphic\n",
    "plt.show()"
   ]
  },
  {
   "cell_type": "markdown",
   "metadata": {},
   "source": [
    "---\n",
    "## Adjusting the colors\n",
    "---"
   ]
  },
  {
   "cell_type": "code",
   "execution_count": null,
   "metadata": {},
   "outputs": [],
   "source": [
    "# RGB is a way of making colors.\n",
    "# color =  red, green and blue + the transparency\n",
    "# Put transparency = 0 \n",
    "# Put transparency = 1\n",
    "plt.bar(bars, height, color=(0.2, 0.4, 0.6, 0.6))\n",
    "plt.xticks(bars)\n",
    "plt.show()"
   ]
  },
  {
   "cell_type": "code",
   "execution_count": null,
   "metadata": {},
   "outputs": [],
   "source": [
    "# Different color for each bar \n",
    "# Provide a list of color names to the color argument\n",
    "plt.bar(bars, height, color=['black', 'red', 'green', 'blue', 'cyan'])\n",
    "plt.xticks(bars)\n",
    "plt.show()"
   ]
  },
  {
   "cell_type": "code",
   "execution_count": null,
   "metadata": {},
   "outputs": [],
   "source": [
    "# Control color of the border \n",
    "# The edgecolor argument allows to color the borders of barplots.\n",
    "plt.bar(bars, height, color=(0.1, 0.1, 0.1, 0.1),  edgecolor='blue')\n",
    "plt.xticks(bars)\n",
    "plt.show()"
   ]
  },
  {
   "cell_type": "markdown",
   "metadata": {},
   "source": [
    "---\n",
    "## Add title and axis labels \n",
    "---"
   ]
  },
  {
   "cell_type": "code",
   "execution_count": null,
   "metadata": {},
   "outputs": [],
   "source": [
    "# Create bars and choose color\n",
    "plt.bar(bars, height, color = (0.5,0.1,0.5,0.6))\n",
    " \n",
    "# Add title and axis names\n",
    "plt.title('$Height_{bars}$', fontsize=14)\n",
    "plt.xlabel('Name', fontsize=14)\n",
    "plt.ylabel('Height', fontsize=14)\n",
    " \n",
    "# Limits for the Y axis\n",
    "plt.ylim(0,60)\n",
    " \n",
    "# Create names\n",
    "plt.xticks(bars)\n",
    " \n",
    "# Show graphic\n",
    "plt.show()\n",
    "\n",
    "# plt.hist(movies.runtime, bins = 7, color='green', orientation='vertical')"
   ]
  },
  {
   "cell_type": "markdown",
   "metadata": {},
   "source": [
    "# Line chart\n",
    "\n",
    "---\n",
    "## Basic Line Chart\n",
    "---"
   ]
  },
  {
   "cell_type": "code",
   "execution_count": null,
   "metadata": {},
   "outputs": [],
   "source": [
    "# Create a dataframe \n",
    "df = pd.DataFrame({'year': [2015, 2016, 2017, 2018, 2019], 'T20': [24, 36, 12, 18, 25], 'ODI': [89, 24, 37, 63, 98]})\n",
    "\n",
    "# Draw the plot \n",
    "plt.plot( 'year', 'T20', data = df)\n",
    "plt.show()"
   ]
  },
  {
   "cell_type": "code",
   "execution_count": null,
   "metadata": {},
   "outputs": [],
   "source": [
    "# Draw the plot \n",
    "# https://matplotlib.org/3.2.1/api/_as_gen/matplotlib.pyplot.legend.html \n",
    "plt.plot( 'year', 'T20', data = df, linewidth = 5)\n",
    "plt.plot('year', 'ODI', data = df, c='red', linewidth = 5)\n",
    "# plt.plot(y_pred, color='r', marker='o', linestyle='dashed', linewidth=2, markersize=12)\n",
    "plt.xticks(np.arange(min(df.year), max(df.year)+1, 1.0), fontsize = 15)\n",
    "plt.yticks(np.arange(0,125,25), fontsize = 15)\n",
    "plt.title('Points scored by India', fontsize = 15)\n",
    "plt.xlabel('Year', fontsize = 15)\n",
    "plt.ylabel('Points', fontsize = 15)\n",
    "plt.legend(loc='upper center')\n",
    "plt.grid(b=True, alpha=0.9) #which argument to choose the axis \n",
    "plt.show()"
   ]
  },
  {
   "cell_type": "markdown",
   "metadata": {},
   "source": [
    "--- \n",
    "## Plotting the random values\n",
    "---"
   ]
  },
  {
   "cell_type": "code",
   "execution_count": null,
   "metadata": {},
   "outputs": [],
   "source": [
    "# create data\n",
    "values=np.cumsum(np.random.randn(1000,1))\n",
    "# use the plot function\n",
    "plt.plot(values)\n",
    "\n",
    "# https://docs.scipy.org/doc/numpy/reference/generated/numpy.cumsum.html\n",
    "a = np.array([[1,2,3], [4,5,6]])\n",
    "print(a)\n",
    "np.cumsum(a)\n",
    "np.cumsum(a,axis=0)"
   ]
  },
  {
   "cell_type": "code",
   "execution_count": null,
   "metadata": {},
   "outputs": [],
   "source": [
    "#Hexadecimal color values\n",
    "fig, ax = plt.subplots()\n",
    "ax.plot(x, y_actual, markersize = 12, linewidth=3, color = '#005454')\n",
    "plt.show()"
   ]
  },
  {
   "cell_type": "markdown",
   "metadata": {},
   "source": [
    "---\n",
    "##  Multiple lines chart\n",
    "---"
   ]
  },
  {
   "cell_type": "code",
   "execution_count": null,
   "metadata": {},
   "outputs": [],
   "source": [
    "# Data\n",
    "df=pd.DataFrame({'x': range(1,11), 'y1': np.random.randn(10), 'y2': np.random.randn(10)+range(1,11), 'y3': np.random.randn(10)+range(11,21) })\n",
    " \n",
    "# multiple line plot\n",
    "plt.plot( 'x', 'y1', data=df, marker='o', markerfacecolor='blue', markersize=12, color='skyblue', linewidth=4)\n",
    "plt.plot( 'x', 'y2', data=df, marker='', color='olive', linewidth=2)\n",
    "plt.plot( 'x', 'y3', data=df, marker='', color='olive', linewidth=2, linestyle='dashed', label=\"toto\")\n",
    "plt.legend(loc='upper center') "
   ]
  },
  {
   "cell_type": "code",
   "execution_count": null,
   "metadata": {},
   "outputs": [],
   "source": [
    "# To see the plots side by side\n",
    "# plt.subplot() helps us to plot multiple figures in a grid\n",
    "x = np.array([0, 1, 2, 3])\n",
    "y1 = np.array([3, 8, 1, 10])\n",
    "y2 = np.array([10, 20, 30, 40])\n",
    "y3 = np.array([60,65,75,80])\n",
    "plt.subplot(1,3,1)\n",
    "plt.xlabel(\"x\")\n",
    "plt.ylabel(\"y1\")\n",
    "plt.title(\"y1 vs x\")\n",
    "plt.plot(x, y1, 'ro-')\n",
    "\n",
    "plt.subplot(1,3,2)\n",
    "plt.xlabel(\"x\")\n",
    "plt.ylabel(\"y2\")\n",
    "plt.title(\"y2 vs x\")\n",
    "plt.plot(x, y2, 'bx-')\n",
    "\n",
    "plt.subplot(1,3,3)\n",
    "plt.xlabel(\"x\")\n",
    "plt.ylabel(\"y3\")\n",
    "plt.title(\"y3 vs x\")\n",
    "plt.plot(x, y3, 'bx-')\n",
    "plt.show()"
   ]
  },
  {
   "cell_type": "code",
   "execution_count": null,
   "metadata": {},
   "outputs": [],
   "source": [
    "fig, ax = plt.subplots(1,3) #Grid size\n",
    "\n",
    "ax[0].set_xlabel('x')\n",
    "ax[0].set_ylabel('y1')\n",
    "ax[0].set_title('y1 vs x')\n",
    "ax[0].plot(x, y1, 'b')\n",
    "\n",
    "ax[1].set_xlabel('x')\n",
    "ax[1].set_ylabel('y2')\n",
    "ax[1].set_title('y2 vs x')\n",
    "ax[1].plot(x, y2, 'r')\n",
    "\n",
    "ax[2].set_xlabel('x')\n",
    "ax[2].set_ylabel('y3')\n",
    "ax[2].set_title('y3 vs x')\n",
    "ax[2].plot(x, y3, 'g')\n",
    "plt.show()"
   ]
  },
  {
   "cell_type": "code",
   "execution_count": null,
   "metadata": {},
   "outputs": [],
   "source": [
    "#Solves the overlapping problem easily with fig.tight_layout()\n",
    "fig, ax = plt.subplots(1,3) #Grid size\n",
    "\n",
    "ax[0].set_xlabel('x')\n",
    "ax[0].set_ylabel('y1')\n",
    "ax[0].set_title('y1 vs x')\n",
    "ax[0].plot(x, y1, 'b')\n",
    "\n",
    "ax[1].set_xlabel('x')\n",
    "ax[1].set_ylabel('y2')\n",
    "ax[1].set_title('y2 vs x')\n",
    "ax[1].plot(x, y2, 'r')\n",
    "\n",
    "ax[2].set_xlabel('x')\n",
    "ax[2].set_ylabel('y3')\n",
    "ax[2].set_title('y3 vs x')\n",
    "ax[2].plot(x, y3, 'g')\n",
    "\n",
    "fig.tight_layout()\n",
    "plt.show()"
   ]
  },
  {
   "cell_type": "code",
   "execution_count": null,
   "metadata": {},
   "outputs": [],
   "source": [
    "#Saving a figure in folder\n",
    "fig.savefig('test_plot.png', dpi = 100)"
   ]
  },
  {
   "cell_type": "markdown",
   "metadata": {},
   "source": [
    "# Scatter plot \n",
    "\n",
    "Scatter plots can be leveraged to identify relationships between two variables. It can be effectively used in circumstances where the dependent variable can have multiple values for the independent variable. \n",
    "\n",
    "To create a scatter plot in Matplotlib we can use the scatter method. We can also create a figure and an axis using plt.subplots so we can give our plot a title and labels."
   ]
  },
  {
   "cell_type": "code",
   "execution_count": null,
   "metadata": {},
   "outputs": [],
   "source": [
    "#Useful when checking relation between two variables - such as temp and rainfall\n",
    "x = np.array([0, 1, 2, 3,4,5,6,7,8,9])\n",
    "y1 = np.array([30,40,50,35,45,55,65,70,75,80])\n",
    "y2 = np.array([32,43,54,37,47,57,67,72,77,83])\n",
    "plt.scatter(x, y1)\n",
    "plt.show()"
   ]
  },
  {
   "cell_type": "code",
   "execution_count": null,
   "metadata": {},
   "outputs": [],
   "source": [
    "np.random.seed(64) # We use this to get same data at evry run\n",
    "\n",
    "x = range(1,32) \n",
    "y_actual = [np.random.uniform(0, 5) for _ in range(1,32)]\n",
    "y_pred = [y + np.random.uniform(-2,2) for y in y_actual]"
   ]
  },
  {
   "cell_type": "code",
   "execution_count": null,
   "metadata": {},
   "outputs": [],
   "source": [
    "# two plots on the same figure\n",
    "plt.scatter(x, y_actual, color='pink')\n",
    "plt.scatter(x, y_pred, color='yellow' )\n",
    "plt.show()"
   ]
  },
  {
   "cell_type": "markdown",
   "metadata": {},
   "source": [
    "##  Histogram\n",
    "In Matplotlib we can create a Histogram using the hist method. If we pass it categorical data like the points column from some dataset it will automatically calculate how often each class occurs. A histogram displays numerical data by grouping data into \"bins\" of equal width. Each bin is plotted as a bar whose height corresponds to how many data points are in that bin. Bins are also sometimes called \"intervals\", \"classes\", or \"buckets\""
   ]
  },
  {
   "cell_type": "code",
   "execution_count": null,
   "metadata": {},
   "outputs": [],
   "source": [
    "#Histogram \n",
    "plt.hist(y_pred, bins=[0,1,2,3,4,5], rwidth=0.9)\n",
    "plt.show()"
   ]
  },
  {
   "cell_type": "markdown",
   "metadata": {},
   "source": [
    "### Box plot\n",
    "A box plot is used to show the shape of the distribution, its central value, and its variability. A box and whisker plot—also called a box plot—displays the five-number summary of a set of data. The five-number summary is the minimum, first quartile, median, third quartile, and maximum. In a box plot, we draw a box from the first quartile to the third quartile. A vertical line goes through the box at the median. The whiskers go from each quartile to the minimum or maximum."
   ]
  },
  {
   "cell_type": "code",
   "execution_count": null,
   "metadata": {},
   "outputs": [],
   "source": [
    "data = [y_actual, y_pred]\n",
    "plt.boxplot(data, vert = True, patch_artist=True)\n",
    "plt.show()"
   ]
  },
  {
   "cell_type": "markdown",
   "metadata": {},
   "source": [
    "## Plots for visualizing distribution\n",
    "---\n",
    "### Violin plot \n",
    "---"
   ]
  },
  {
   "cell_type": "code",
   "execution_count": null,
   "metadata": {},
   "outputs": [],
   "source": [
    "# https://python-graph-gallery.com/violin-plot/\n",
    "# Violinplots allow to visualize the distribution of a numeric variable for one or several groups. \n",
    "# It is really close from a boxplot, but allows a deeper understanding of the density. \n",
    "# Violins are particularly adapted when the amount of data is huge and showing individual observations gets impossible. \n",
    "# Violinplots probably deserve more attention compared to boxplot that can sometimes hide features of the data.\n",
    "\n",
    "# If you have only one numerical variable, you probably better have to make an histogram or a density plot. \n",
    "# But you can still use the violinplot function to describe the distribution of this variable, as follow:\n",
    "# from pylab import *\n",
    "df = pd.read_csv(\"Iris.csv\")\n",
    " \n",
    "# plot\n",
    "sns.violinplot(x=df[\"Species\"], y=df[\"SepalLengthCm\"])\n",
    "# sns.boxplot(x=\"species\", y=\"sepal_length\", data=df)"
   ]
  },
  {
   "cell_type": "markdown",
   "metadata": {},
   "source": [
    "---\n",
    "## Density plot \n",
    "---"
   ]
  },
  {
   "cell_type": "code",
   "execution_count": null,
   "metadata": {},
   "outputs": [],
   "source": [
    "# plot of 2 variables\n",
    "# Kernel Density Estimate is used for visualizing the Probability Density of a continuous variable\n",
    "p1=sns.kdeplot(df['SepalWidthCm'], shade=True, color=\"r\")\n",
    "p1=sns.kdeplot(df['SepalLengthCm'], shade=True, color=\"b\")"
   ]
  },
  {
   "cell_type": "markdown",
   "metadata": {},
   "source": [
    "## Load Dataset"
   ]
  },
  {
   "cell_type": "code",
   "execution_count": null,
   "metadata": {},
   "outputs": [],
   "source": [
    "# loading iris data from sklearn library\n",
    "from sklearn import datasets\n",
    "iris = datasets.load_iris()\n",
    "# print(\"data\" ,iris.data)\n",
    "# print(\"target\" ,iris.target)\n",
    "X = iris.data\n",
    "y = iris.target\n",
    "\n",
    "# # Loading the iris dataset directly from its URL\n",
    "# import pandas\n",
    "# from pandas import read_csv\n",
    "# data = pd.read_csv (r'https://raw.githubusercontent.com/jbrownlee/Datasets/master/iris.csv')   \n",
    "# names = ['sepal-length', 'sepal-width', 'petal-length', 'petal-width', 'class']\n",
    "# dataset = pd.DataFrame(data, columns= names)"
   ]
  },
  {
   "cell_type": "code",
   "execution_count": null,
   "metadata": {},
   "outputs": [],
   "source": [
    "# Loading iris data from .csv file in local directory\n",
    "import pandas as pd\n",
    "from pandas import read_csv\n",
    "\n",
    "dataset= pd.read_csv(\"Iris.csv\")"
   ]
  },
  {
   "cell_type": "code",
   "execution_count": null,
   "metadata": {},
   "outputs": [],
   "source": [
    "# checking the dimensions of the data\n",
    "print(dataset.shape)"
   ]
  },
  {
   "cell_type": "code",
   "execution_count": null,
   "metadata": {},
   "outputs": [],
   "source": [
    "# To see first few rows of the dataset\n",
    "print(dataset.head())"
   ]
  },
  {
   "cell_type": "code",
   "execution_count": null,
   "metadata": {},
   "outputs": [],
   "source": [
    "# To see last few rows of the dataset\n",
    "print(dataset.tail())"
   ]
  },
  {
   "cell_type": "code",
   "execution_count": null,
   "metadata": {},
   "outputs": [],
   "source": [
    "# descriptions -- statistical summary of each attribute\n",
    "print(dataset.describe())"
   ]
  },
  {
   "cell_type": "code",
   "execution_count": null,
   "metadata": {},
   "outputs": [],
   "source": [
    "# class distribution -- no. of rows that belong to each class\n",
    "print(dataset.groupby('Species').size())"
   ]
  },
  {
   "cell_type": "code",
   "execution_count": null,
   "metadata": {},
   "outputs": [],
   "source": [
    "classes= dataset.Species.value_counts()\n",
    "print(classes)"
   ]
  },
  {
   "cell_type": "markdown",
   "metadata": {},
   "source": [
    "### Data Visualization\n",
    "A pie chart is a circular chart. It is Divided into wedge-like sectors, illustrating proportion. The total value of the pie is always 100 percent.\n",
    "\n",
    "Pie charts can be used to identify proportions of the different components in a given whole."
   ]
  },
  {
   "cell_type": "code",
   "execution_count": null,
   "metadata": {},
   "outputs": [],
   "source": [
    "import matplotlib.pyplot as plt\n",
    "plt.pie(classes)\n",
    "# plt.pie(genre_counts, labels=genre_counts)\n",
    "# plt.pie(genre_counts, labels=genre_counts.index.tolist())\n",
    "plt.show()\n",
    "# Change the label of the pie chart "
   ]
  },
  {
   "cell_type": "code",
   "execution_count": null,
   "metadata": {},
   "outputs": [],
   "source": [
    "dataset.plot()"
   ]
  },
  {
   "cell_type": "code",
   "execution_count": null,
   "metadata": {},
   "outputs": [],
   "source": [
    "# histograms\n",
    "dataset.hist()\n",
    "plt.show()"
   ]
  },
  {
   "cell_type": "markdown",
   "metadata": {},
   "source": [
    "\n",
    "### Plot Scatter matrix \n",
    "To look at the structured relationships between the variables. Plotting scatter matrix of all pairs of attributes – this helps us know correlation and a predictable relationship between pairs of attributes."
   ]
  },
  {
   "cell_type": "code",
   "execution_count": null,
   "metadata": {},
   "outputs": [],
   "source": [
    "from pandas.plotting import scatter_matrix\n",
    "scatter_matrix(dataset)\n",
    "plt.show()"
   ]
  },
  {
   "cell_type": "markdown",
   "metadata": {},
   "source": [
    "### Generate some synthetic data"
   ]
  },
  {
   "cell_type": "code",
   "execution_count": null,
   "metadata": {},
   "outputs": [],
   "source": [
    "x = [1, 2, 3]\n",
    "y = [1, 4, 9]\n",
    "z = [10, 5, 0]\n",
    "plt.plot(x, y)\n",
    "# plt.plot(x, z)\n",
    "# plt.title(\"test plot\")\n",
    "# plt.xlabel(\"x\")\n",
    "# plt.ylabel(\"y and z\")\n",
    "# plt.legend([\"this is y\", \"this is z\"])\n",
    "plt.show()"
   ]
  },
  {
   "cell_type": "markdown",
   "metadata": {},
   "source": [
    "---\n",
    "\n",
    "## Various distributions \n",
    "\n",
    "---\n",
    "### Bernoulli Distribution\n",
    "Tossing a biased coin"
   ]
  },
  {
   "cell_type": "code",
   "execution_count": null,
   "metadata": {},
   "outputs": [],
   "source": [
    "import numpy as np\n",
    "probs = np.array([0.70, 0.3])\n",
    "side = [0, 1]\n",
    "plt.bar(side, probs)\n",
    "plt.title('Bernoulli Distribution of a Biased Coin', fontsize=12)\n",
    "plt.ylabel('Probability', fontsize=12)\n",
    "plt.xlabel('Outcome', fontsize=12)\n",
    "axes = plt.gca()\n",
    "axes.set_ylim([0,1])"
   ]
  },
  {
   "cell_type": "markdown",
   "metadata": {},
   "source": [
    "---\n",
    "### Uniform Distribution\n",
    "---\n",
    "Rolling a dice"
   ]
  },
  {
   "cell_type": "code",
   "execution_count": null,
   "metadata": {},
   "outputs": [],
   "source": [
    "# Skewed pictorial representation \n",
    "probs = [1/6]*6\n",
    "side = [1,2,3,4,5,6]\n",
    "s = pd.Series(probs,side)\n",
    "\n",
    "#Set descriptions:\n",
    "plt.title(\"Uniform Distribution\",fontsize=16)\n",
    "plt.ylabel('side', fontsize=16)\n",
    "plt.xlabel('probability',fontsize=16)\n",
    "\n",
    "#Set tick colors:\n",
    "ax = plt.gca()\n",
    "ax.tick_params(axis='x', colors='blue')\n",
    "ax.tick_params(axis='y', colors='red')\n",
    "ax.set_ylim([0,1])\n",
    "\n",
    "#Plot the data:\n",
    "\n",
    "\n",
    "s.plot(kind = 'bar')\n",
    "\n",
    "plt.show()"
   ]
  },
  {
   "cell_type": "markdown",
   "metadata": {},
   "source": [
    "---\n",
    "\n",
    "### Binomial Distribution\n",
    "\n",
    "---\n",
    "Tossing a coin certain number of times"
   ]
  },
  {
   "cell_type": "code",
   "execution_count": null,
   "metadata": {},
   "outputs": [],
   "source": [
    "import scipy.stats as stats\n",
    "x = np.arange(0, 25)\n",
    "prob = 0.2\n",
    "p = 100   # shape parameter\n",
    "binom = stats.binom.pmf(x,p, prob)\n",
    "plt.plot(x, binom, '-o')\n",
    "plt.xlabel('Random Variable', fontsize=12)\n",
    "plt.ylabel('Probability', fontsize=12)\n",
    "plt.title(\"Binomial Distribution\")"
   ]
  },
  {
   "cell_type": "markdown",
   "metadata": {},
   "source": [
    "---\n",
    "### Gaussian Distribution\n",
    "---"
   ]
  },
  {
   "cell_type": "code",
   "execution_count": null,
   "metadata": {},
   "outputs": [],
   "source": [
    "n = np.arange(-100, 100)\n",
    "mean = 0\n",
    "normal = stats.norm.pdf(n, mean, 20)\n",
    "plt.plot(n, normal)\n",
    "plt.xlabel('Random Variable', fontsize=12)\n",
    "plt.ylabel('Probability', fontsize=12)\n",
    "plt.title(\"Normal Distribution\")"
   ]
  },
  {
   "cell_type": "markdown",
   "metadata": {},
   "source": [
    "---\n",
    "### Poisson Distribution\n",
    "---"
   ]
  },
  {
   "cell_type": "code",
   "execution_count": null,
   "metadata": {},
   "outputs": [],
   "source": [
    "# n = number of events, lambd = expected number of events which can take place in a period\n",
    "# The Poisson distribution is the discrete probability distribution of the number of events \n",
    "# occurring in a given time period, given the average number of times the event occurs over that time period.\n",
    "n = np.arange(0, 50)\n",
    "for Lambda in range(0,10,2):\n",
    "    poisson = stats.poisson.pmf(n, Lambda)\n",
    "    plt.plot(n, poisson, '-o', label=\"λ = {:f}\".format(Lambda))\n",
    "    plt.xlabel('Number of Events', fontsize=12)\n",
    "    plt.ylabel('Probability', fontsize=12)\n",
    "    plt.title(\"Poisson Distribution\")\n",
    "    plt.legend()"
   ]
  },
  {
   "cell_type": "markdown",
   "metadata": {},
   "source": [
    "---\n",
    "### Exponential Distribution\n",
    "---"
   ]
  },
  {
   "cell_type": "code",
   "execution_count": null,
   "metadata": {},
   "outputs": [],
   "source": [
    "Lambda = 0.5\n",
    "x = np.arange(0, 15, 0.1)\n",
    "y = Lambda*np.exp(-Lambda*x)\n",
    "plt.plot(x,y, label=\"λ = {:f}\".format(Lambda))\n",
    "plt.xlabel('Random Variable', fontsize=12)\n",
    "plt.ylabel('Probability', fontsize=12)\n",
    "plt.title(\"Exponential Distribution\")\n",
    "plt.legend()"
   ]
  }
 ],
 "metadata": {
  "kernelspec": {
   "display_name": "Python 3",
   "language": "python",
   "name": "python3"
  },
  "language_info": {
   "codemirror_mode": {
    "name": "ipython",
    "version": 3
   },
   "file_extension": ".py",
   "mimetype": "text/x-python",
   "name": "python",
   "nbconvert_exporter": "python",
   "pygments_lexer": "ipython3",
   "version": "3.7.3"
  }
 },
 "nbformat": 4,
 "nbformat_minor": 2
}
