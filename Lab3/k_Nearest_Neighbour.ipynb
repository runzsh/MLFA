{
  "cells": [
    {
      "cell_type": "markdown",
      "source": [
        "## **k Nearest Neighbour**"
      ],
      "metadata": {
        "id": "lEsGMa6-KGwG"
      }
    },
    {
      "cell_type": "code",
      "source": [
        "# imports\n",
        "from sklearn import datasets\n",
        "from sklearn.model_selection import train_test_split\n",
        "from sklearn.neighbors import KNeighborsClassifier\n",
        "from sklearn import metrics\n",
        "\n",
        "# loading the dataset\n",
        "wine = datasets.load_wine()"
      ],
      "metadata": {
        "id": "Wtog6gyFeZpv"
      },
      "execution_count": null,
      "outputs": []
    },
    {
      "cell_type": "code",
      "source": [
        "# features\n",
        "print(wine.feature_names)\n",
        "\n",
        "# target classes\n",
        "print(wine.target_names)"
      ],
      "metadata": {
        "colab": {
          "base_uri": "https://localhost:8080/"
        },
        "id": "AzfFkUTJeaY7",
        "outputId": "75cd8c37-0992-474e-a86e-1cb6bdd859ed"
      },
      "execution_count": null,
      "outputs": [
        {
          "output_type": "stream",
          "name": "stdout",
          "text": [
            "['alcohol', 'malic_acid', 'ash', 'alcalinity_of_ash', 'magnesium', 'total_phenols', 'flavanoids', 'nonflavanoid_phenols', 'proanthocyanins', 'color_intensity', 'hue', 'od280/od315_of_diluted_wines', 'proline']\n",
            "['class_0' 'class_1' 'class_2']\n"
          ]
        }
      ]
    },
    {
      "cell_type": "code",
      "source": [
        "# feature values and targets\n",
        "print(wine.data[:5])\n",
        "print(wine.target)"
      ],
      "metadata": {
        "colab": {
          "base_uri": "https://localhost:8080/"
        },
        "id": "h2gY66BregHw",
        "outputId": "cfc8501b-7a37-4e22-b2f4-8d6ae9694247"
      },
      "execution_count": null,
      "outputs": [
        {
          "output_type": "stream",
          "name": "stdout",
          "text": [
            "[[1.423e+01 1.710e+00 2.430e+00 1.560e+01 1.270e+02 2.800e+00 3.060e+00\n",
            "  2.800e-01 2.290e+00 5.640e+00 1.040e+00 3.920e+00 1.065e+03]\n",
            " [1.320e+01 1.780e+00 2.140e+00 1.120e+01 1.000e+02 2.650e+00 2.760e+00\n",
            "  2.600e-01 1.280e+00 4.380e+00 1.050e+00 3.400e+00 1.050e+03]\n",
            " [1.316e+01 2.360e+00 2.670e+00 1.860e+01 1.010e+02 2.800e+00 3.240e+00\n",
            "  3.000e-01 2.810e+00 5.680e+00 1.030e+00 3.170e+00 1.185e+03]\n",
            " [1.437e+01 1.950e+00 2.500e+00 1.680e+01 1.130e+02 3.850e+00 3.490e+00\n",
            "  2.400e-01 2.180e+00 7.800e+00 8.600e-01 3.450e+00 1.480e+03]\n",
            " [1.324e+01 2.590e+00 2.870e+00 2.100e+01 1.180e+02 2.800e+00 2.690e+00\n",
            "  3.900e-01 1.820e+00 4.320e+00 1.040e+00 2.930e+00 7.350e+02]]\n",
            "[0 0 0 0 0 0 0 0 0 0 0 0 0 0 0 0 0 0 0 0 0 0 0 0 0 0 0 0 0 0 0 0 0 0 0 0 0\n",
            " 0 0 0 0 0 0 0 0 0 0 0 0 0 0 0 0 0 0 0 0 0 0 1 1 1 1 1 1 1 1 1 1 1 1 1 1 1\n",
            " 1 1 1 1 1 1 1 1 1 1 1 1 1 1 1 1 1 1 1 1 1 1 1 1 1 1 1 1 1 1 1 1 1 1 1 1 1\n",
            " 1 1 1 1 1 1 1 1 1 1 1 1 1 1 1 1 1 1 1 2 2 2 2 2 2 2 2 2 2 2 2 2 2 2 2 2 2\n",
            " 2 2 2 2 2 2 2 2 2 2 2 2 2 2 2 2 2 2 2 2 2 2 2 2 2 2 2 2 2 2]\n"
          ]
        }
      ]
    },
    {
      "cell_type": "code",
      "source": [
        "# print feature data shape\n",
        "print(wine.data.shape)\n",
        "\n",
        "# print target shape\n",
        "print(wine.target.shape)"
      ],
      "metadata": {
        "colab": {
          "base_uri": "https://localhost:8080/"
        },
        "id": "iXcgjjvgekcu",
        "outputId": "b0a2181b-cc46-4e7c-a010-91d99551dd1a"
      },
      "execution_count": null,
      "outputs": [
        {
          "output_type": "stream",
          "name": "stdout",
          "text": [
            "(178, 13)\n",
            "(178,)\n"
          ]
        }
      ]
    },
    {
      "cell_type": "code",
      "source": [
        "# Split dataset into training set and test set\n",
        "x_train, x_test, y_train, y_test = train_test_split(wine.data, wine.target, test_size=0.2, random_state=10)"
      ],
      "metadata": {
        "id": "WolX3U8neoIM"
      },
      "execution_count": null,
      "outputs": []
    },
    {
      "cell_type": "code",
      "source": [
        "# creating kNN classifiers\n",
        "knn_1 = KNeighborsClassifier(n_neighbors=1)\n",
        "knn_3 = KNeighborsClassifier(n_neighbors=3)\n",
        "knn_5 = KNeighborsClassifier(n_neighbors=5)\n",
        "knn_7 = KNeighborsClassifier(n_neighbors=7)\n",
        "knn_9 = KNeighborsClassifier(n_neighbors=9)\n",
        "knn_11 = KNeighborsClassifier(n_neighbors=11)\n",
        "\n",
        "# training\n",
        "knn_1.fit(x_train, y_train)\n",
        "knn_3.fit(x_train, y_train)\n",
        "knn_5.fit(x_train, y_train)\n",
        "knn_7.fit(x_train, y_train)\n",
        "knn_9.fit(x_train, y_train)\n",
        "knn_11.fit(x_train, y_train)\n",
        "\n",
        "# testing\n",
        "y_pred_1 = knn_1.predict(x_test)\n",
        "y_pred_3 = knn_3.predict(x_test)\n",
        "y_pred_5 = knn_5.predict(x_test)\n",
        "y_pred_7 = knn_7.predict(x_test)\n",
        "y_pred_9 = knn_9.predict(x_test)\n",
        "y_pred_11 = knn_11.predict(x_test)\n",
        "\n",
        "# accuracy\n",
        "print(\"Accuracy of kNN with k = 1:\",metrics.accuracy_score(y_test, y_pred_1))\n",
        "print(\"Accuracy of kNN with k = 3:\",metrics.accuracy_score(y_test, y_pred_3))\n",
        "print(\"Accuracy of kNN with k = 5:\",metrics.accuracy_score(y_test, y_pred_5))\n",
        "print(\"Accuracy of kNN with k = 7:\",metrics.accuracy_score(y_test, y_pred_7))\n",
        "print(\"Accuracy of kNN with k = 9:\",metrics.accuracy_score(y_test, y_pred_9))\n",
        "print(\"Accuracy of kNN with k = 11:\",metrics.accuracy_score(y_test, y_pred_11))"
      ],
      "metadata": {
        "colab": {
          "base_uri": "https://localhost:8080/"
        },
        "id": "g24QmxoLeqxP",
        "outputId": "b959225b-f668-4c5e-9ed3-0e0eb72fff47"
      },
      "execution_count": null,
      "outputs": [
        {
          "output_type": "stream",
          "name": "stdout",
          "text": [
            "Accuracy of kNN with k = 1: 0.6944444444444444\n",
            "Accuracy of kNN with k = 3: 0.6944444444444444\n",
            "Accuracy of kNN with k = 5: 0.7222222222222222\n",
            "Accuracy of kNN with k = 7: 0.6944444444444444\n",
            "Accuracy of kNN with k = 9: 0.6666666666666666\n",
            "Accuracy of kNN with k = 11: 0.6944444444444444\n"
          ]
        }
      ]
    },
    {
      "cell_type": "code",
      "source": [],
      "metadata": {
        "id": "g8nKWWvgk-XZ"
      },
      "execution_count": null,
      "outputs": []
    }
  ],
  "metadata": {
    "kernelspec": {
      "display_name": "Python 3",
      "language": "python",
      "name": "python3"
    },
    "language_info": {
      "codemirror_mode": {
        "name": "ipython",
        "version": 3
      },
      "file_extension": ".py",
      "mimetype": "text/x-python",
      "name": "python",
      "nbconvert_exporter": "python",
      "pygments_lexer": "ipython3",
      "version": "3.8.5"
    },
    "colab": {
      "provenance": [],
      "collapsed_sections": []
    }
  },
  "nbformat": 4,
  "nbformat_minor": 0
}