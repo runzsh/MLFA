{
 "cells": [
  {
   "cell_type": "markdown",
   "id": "eec2ea76",
   "metadata": {},
   "source": [
    "# Feedforward Neural Network"
   ]
  },
  {
   "cell_type": "code",
   "execution_count": 1,
   "id": "16ba4b87",
   "metadata": {},
   "outputs": [],
   "source": [
    "import numpy as np\n",
    "import pandas as pd       \n",
    "import tensorflow as tf\n",
    "import matplotlib.pyplot as plt\n",
    "from sklearn.preprocessing import LabelBinarizer"
   ]
  },
  {
   "cell_type": "code",
   "execution_count": 38,
   "id": "9193d2af",
   "metadata": {},
   "outputs": [],
   "source": [
    "from tensorflow.keras.models import Sequential\n",
    "from tensorflow.keras.layers import Flatten\n",
    "from tensorflow.keras.layers import BatchNormalization\n",
    "from tensorflow.keras.layers import Activation\n",
    "from tensorflow.keras.layers import Dense\n",
    "from tensorflow.keras.optimizers import SGD\n",
    "from tensorflow.keras.datasets import mnist"
   ]
  },
  {
   "cell_type": "markdown",
   "id": "4cb13b07",
   "metadata": {},
   "source": [
    "The LabelBinarizer will be used to convert our integer labels as vector labels, for transforming categorical labels from a single integer to a vector. The Sequential class indicates that our network will be feedforward and layers will be added sequentially, one on top of the other. Dense is for the implementation of our fully connected layers. "
   ]
  },
  {
   "cell_type": "markdown",
   "id": "d0e9ef28",
   "metadata": {},
   "source": [
    "### Load the MNIST dataset\n",
    "The MNIST database consists of handwritten digits, which has a training set of 60,000 examples, and a test set of 10,000 examples. It is a subset of a larger set available from NIST. The digits have been size-normalized and centered in a fixed-size image. \n",
    "\n",
    "\n",
    "The original black and white (bilevel) images from NIST were size normalized to fit in a 20x20 pixel box while preserving their aspect ratio. The images were centered in a 28x28 image by computing the center of mass of the pixels, and translating the image so as to position this point at the center of the 28x28 field.\n",
    "\n",
    "Dataset URL : http://yann.lecun.com/exdb/mnist/"
   ]
  },
  {
   "cell_type": "code",
   "execution_count": 39,
   "id": "eac23ee2",
   "metadata": {},
   "outputs": [
    {
     "name": "stdout",
     "output_type": "stream",
     "text": [
      "MNIST dataset\n",
      "Shape of training data (60000, 28, 28)\n",
      "Shape of test data (10000, 28, 28)\n"
     ]
    }
   ],
   "source": [
    "((Xtrain, Ytrain), (Xtest, Ytest)) = mnist.load_data()\n",
    "print(\"MNIST dataset\")\n",
    "print('Shape of training data',Xtrain.shape)\n",
    "print('Shape of test data',Xtest.shape)"
   ]
  },
  {
   "cell_type": "code",
   "execution_count": 40,
   "id": "92e52eff",
   "metadata": {},
   "outputs": [
    {
     "data": {
      "image/png": "[encoded data removed]",
      "text/plain": [
       "<Figure size 432x288 with 2 Axes>"
      ]
     },
     "metadata": {
      "needs_background": "light"
     },
     "output_type": "display_data"
    },
    {
     "name": "stdout",
     "output_type": "stream",
     "text": [
      "8\n"
     ]
    }
   ],
   "source": [
    "plt.figure()\n",
    "plt.imshow(Xtrain[58888])\n",
    "plt.colorbar()\n",
    "plt.show()\n",
    "print(Ytrain[58888])"
   ]
  },
  {
   "cell_type": "code",
   "execution_count": 41,
   "id": "0afb9c70",
   "metadata": {},
   "outputs": [
    {
     "data": {
      "image/png": "[encoded data removed]",
      "text/plain": [
       "<Figure size 432x288 with 2 Axes>"
      ]
     },
     "metadata": {
      "needs_background": "light"
     },
     "output_type": "display_data"
    },
    {
     "name": "stdout",
     "output_type": "stream",
     "text": [
      "8\n"
     ]
    }
   ],
   "source": [
    "# scale data to the range of [0, 1]\n",
    "Xtrain = Xtrain.astype(\"float32\") / 255.0\n",
    "Xtest = Xtest.astype(\"float32\") / 255.0\n",
    "plt.figure()\n",
    "plt.imshow(Xtrain[58888])\n",
    "plt.colorbar()\n",
    "plt.show()\n",
    "print(Ytrain[58888])"
   ]
  },
  {
   "cell_type": "code",
   "execution_count": 42,
   "id": "07f066d9",
   "metadata": {},
   "outputs": [],
   "source": [
    "# convert the labels from integers to vectors\n",
    "Ytrain = LabelBinarizer().fit_transform(Ytrain)\n",
    "Ytest = LabelBinarizer().fit_transform(Ytest)"
   ]
  },
  {
   "cell_type": "code",
   "execution_count": 43,
   "id": "ece46441",
   "metadata": {},
   "outputs": [],
   "source": [
    "#Define our network architecture (784-256-128-10)\n",
    "\n",
    "model = Sequential()\n",
    "model.add(Flatten(input_shape=(28,28)))\n",
    "model.add(Dense(256))\n",
    "model.add(Activation(\"sigmoid\"))\n",
    "model.add(BatchNormalization())\n",
    "model.add(Dense(128))\n",
    "model.add(Activation(\"sigmoid\"))\n",
    "model.add(BatchNormalization())\n",
    "model.add(Dense(10, activation=\"softmax\"))"
   ]
  },
  {
   "cell_type": "code",
   "execution_count": 44,
   "id": "3a0231c2",
   "metadata": {},
   "outputs": [
    {
     "name": "stdout",
     "output_type": "stream",
     "text": [
      "Epoch 1/10\n",
      "469/469 [==============================] - 2s 3ms/step - loss: 0.5115 - accuracy: 0.8480 - val_loss: 0.4277 - val_accuracy: 0.9035\n",
      "Epoch 2/10\n",
      "469/469 [==============================] - 1s 3ms/step - loss: 0.3439 - accuracy: 0.9011 - val_loss: 0.3027 - val_accuracy: 0.9139\n",
      "Epoch 3/10\n",
      "469/469 [==============================] - 1s 3ms/step - loss: 0.3140 - accuracy: 0.9092 - val_loss: 0.2879 - val_accuracy: 0.9195\n",
      "Epoch 4/10\n",
      "469/469 [==============================] - 1s 3ms/step - loss: 0.2967 - accuracy: 0.9155 - val_loss: 0.2731 - val_accuracy: 0.9243\n",
      "Epoch 5/10\n",
      "469/469 [==============================] - 1s 3ms/step - loss: 0.2810 - accuracy: 0.9195 - val_loss: 0.2628 - val_accuracy: 0.9263\n",
      "Epoch 6/10\n",
      "469/469 [==============================] - 1s 3ms/step - loss: 0.2690 - accuracy: 0.9246 - val_loss: 0.2534 - val_accuracy: 0.9279\n",
      "Epoch 7/10\n",
      "469/469 [==============================] - 1s 3ms/step - loss: 0.2580 - accuracy: 0.9283 - val_loss: 0.2460 - val_accuracy: 0.9318\n",
      "Epoch 8/10\n",
      "469/469 [==============================] - 1s 3ms/step - loss: 0.2492 - accuracy: 0.9298 - val_loss: 0.2384 - val_accuracy: 0.9317\n",
      "Epoch 9/10\n",
      "469/469 [==============================] - 1s 3ms/step - loss: 0.2403 - accuracy: 0.9324 - val_loss: 0.2313 - val_accuracy: 0.9354\n",
      "Epoch 10/10\n",
      "469/469 [==============================] - 1s 3ms/step - loss: 0.2333 - accuracy: 0.9342 - val_loss: 0.2238 - val_accuracy: 0.9352\n",
      "Epoch 1/10\n",
      "1875/1875 [==============================] - 4s 2ms/step - loss: 0.2532 - accuracy: 0.9267 - val_loss: 0.2060 - val_accuracy: 0.9396\n",
      "Epoch 2/10\n",
      "1875/1875 [==============================] - 4s 2ms/step - loss: 0.2298 - accuracy: 0.9340 - val_loss: 0.1886 - val_accuracy: 0.9441\n",
      "Epoch 3/10\n",
      "1875/1875 [==============================] - 4s 2ms/step - loss: 0.2072 - accuracy: 0.9409 - val_loss: 0.1682 - val_accuracy: 0.9508\n",
      "Epoch 4/10\n",
      "1875/1875 [==============================] - 4s 2ms/step - loss: 0.1903 - accuracy: 0.9453 - val_loss: 0.1559 - val_accuracy: 0.9535\n",
      "Epoch 5/10\n",
      "1875/1875 [==============================] - 4s 2ms/step - loss: 0.1746 - accuracy: 0.9499 - val_loss: 0.1490 - val_accuracy: 0.9556\n",
      "Epoch 6/10\n",
      "1875/1875 [==============================] - 4s 2ms/step - loss: 0.1624 - accuracy: 0.9542 - val_loss: 0.1393 - val_accuracy: 0.9593\n",
      "Epoch 7/10\n",
      "1875/1875 [==============================] - 4s 2ms/step - loss: 0.1515 - accuracy: 0.9577 - val_loss: 0.1324 - val_accuracy: 0.9609\n",
      "Epoch 8/10\n",
      "1875/1875 [==============================] - 4s 2ms/step - loss: 0.1404 - accuracy: 0.9602 - val_loss: 0.1230 - val_accuracy: 0.9642\n",
      "Epoch 9/10\n",
      "1875/1875 [==============================] - 4s 2ms/step - loss: 0.1304 - accuracy: 0.9625 - val_loss: 0.1183 - val_accuracy: 0.9658\n",
      "Epoch 10/10\n",
      "1875/1875 [==============================] - 4s 2ms/step - loss: 0.1246 - accuracy: 0.9649 - val_loss: 0.1116 - val_accuracy: 0.9681\n"
     ]
    }
   ],
   "source": [
    "# Train the model using SGD\n",
    "\n",
    "batch_size=128\n",
    "sgd = SGD(0.01)\n",
    "model.compile(loss=\"categorical_crossentropy\", optimizer=sgd, metrics=[\"accuracy\"])\n",
    "Hyp = model.fit(Xtrain, Ytrain, validation_data=(Xtest,Ytest), epochs=10, batch_size=batch_size)\n",
    "#Hyp = model.fit(Xtrain, Ytrain, validation_data=(Xtest,Ytest), epochs=10)\n",
    "\n",
    "\n"
   ]
  },
  {
   "cell_type": "code",
   "execution_count": 9,
   "id": "3915bce5",
   "metadata": {},
   "outputs": [
    {
     "name": "stdout",
     "output_type": "stream",
     "text": [
      "Evaluating network...\n",
      "10000/10000 [==============================] - 0s 23us/sample - loss: 0.3466 - acc: 0.9019\n"
     ]
    }
   ],
   "source": [
    "# evaluate the network on the testing data to obtain our final classifications\n",
    "\n",
    "print(\"Evaluating network...\")\n",
    "\n",
    "test_loss, test_acc = model.evaluate(Xtest,  Ytest)\n"
   ]
  },
  {
   "cell_type": "code",
   "execution_count": 10,
   "id": "26192a88",
   "metadata": {},
   "outputs": [
    {
     "name": "stdout",
     "output_type": "stream",
     "text": [
      "[2.9722875e-04 6.7884284e-06 1.1329845e-04 1.5443551e-03 1.1951549e-05\n",
      " 1.2394664e-04 1.2751048e-07 9.9199122e-01 2.3715760e-05 5.8872993e-03]\n",
      "7\n"
     ]
    }
   ],
   "source": [
    "predictions = model.predict(Xtest)\n",
    "print(predictions[0])\n",
    "print(np.argmax(predictions[0]))"
   ]
  },
  {
   "cell_type": "code",
   "execution_count": 11,
   "id": "af9fe883",
   "metadata": {},
   "outputs": [
    {
     "data": {
      "image/png": "[encoded data removed]",
      "text/plain": [
       "<Figure size 432x288 with 1 Axes>"
      ]
     },
     "metadata": {
      "needs_background": "light"
     },
     "output_type": "display_data"
    }
   ],
   "source": [
    "# plot the training loss and accuracy\n",
    "\n",
    "plt.figure()\n",
    "plt.plot(np.arange(0, 10), Hyp.history[\"loss\"], label=\"train_loss\")\n",
    "plt.plot(np.arange(0, 10), Hyp.history[\"val_loss\"], label=\"val_loss\")\n",
    "plt.plot(np.arange(0, 10), Hyp.history[\"acc\"], label=\"train_acc\")\n",
    "plt.plot(np.arange(0, 10), Hyp.history[\"val_acc\"], label=\"val_acc\")\n",
    "plt.title(\"Training Loss and Accuracy\")\n",
    "plt.xlabel(\"Epoch #\")\n",
    "plt.ylabel(\"Loss/Accuracy\")\n",
    "plt.legend()\n",
    "plt.show()"
   ]
  }
 ],
 "metadata": {
  "kernelspec": {
   "display_name": "Python 3 (ipykernel)",
   "language": "python",
   "name": "python3"
  },
  "language_info": {
   "codemirror_mode": {
    "name": "ipython",
    "version": 3
   },
   "file_extension": ".py",
   "mimetype": "text/x-python",
   "name": "python",
   "nbconvert_exporter": "python",
   "pygments_lexer": "ipython3",
   "version": "3.9.13"
  }
 },
 "nbformat": 4,
 "nbformat_minor": 5
}
