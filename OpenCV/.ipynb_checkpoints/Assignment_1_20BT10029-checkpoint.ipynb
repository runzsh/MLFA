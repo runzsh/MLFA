{
 "cells": [
  {
   "cell_type": "code",
   "execution_count": 2,
   "id": "70989dd1",
   "metadata": {},
   "outputs": [
    {
     "name": "stdout",
     "output_type": "stream",
     "text": [
      "\u001b[31mERROR: Could not find a version that satisfies the requirement videokf (from versions: none)\u001b[0m\n",
      "\u001b[31mERROR: No matching distribution found for videokf\u001b[0m\n",
      "Note: you may need to restart the kernel to use updated packages.\n"
     ]
    }
   ],
   "source": [
    "pip install videokf"
   ]
  },
  {
   "cell_type": "code",
   "execution_count": 1,
   "id": "cd2185e3",
   "metadata": {},
   "outputs": [
    {
     "ename": "ModuleNotFoundError",
     "evalue": "No module named 'videokf'",
     "output_type": "error",
     "traceback": [
      "\u001b[0;31m---------------------------------------------------------------------------\u001b[0m",
      "\u001b[0;31mModuleNotFoundError\u001b[0m                       Traceback (most recent call last)",
      "Input \u001b[0;32mIn [1]\u001b[0m, in \u001b[0;36m<cell line: 3>\u001b[0;34m()\u001b[0m\n\u001b[1;32m      1\u001b[0m \u001b[38;5;28;01mimport\u001b[39;00m \u001b[38;5;21;01mcv2\u001b[39;00m\n\u001b[1;32m      2\u001b[0m \u001b[38;5;28;01mimport\u001b[39;00m \u001b[38;5;21;01mnumpy\u001b[39;00m \u001b[38;5;28;01mas\u001b[39;00m \u001b[38;5;21;01mnp\u001b[39;00m\n\u001b[0;32m----> 3\u001b[0m \u001b[38;5;28;01mimport\u001b[39;00m \u001b[38;5;21;01mvideokf\u001b[39;00m \u001b[38;5;28;01mas\u001b[39;00m \u001b[38;5;21;01mvf\u001b[39;00m\n",
      "\u001b[0;31mModuleNotFoundError\u001b[0m: No module named 'videokf'"
     ]
    }
   ],
   "source": [
    "import cv2\n",
    "import numpy as np\n",
    "import videokf as vf"
   ]
  },
  {
   "cell_type": "markdown",
   "id": "d65eabff",
   "metadata": {},
   "source": [
    "Opening a video file, extracting and operating on its frames."
   ]
  },
  {
   "cell_type": "code",
   "execution_count": 18,
   "id": "b34ffc2f",
   "metadata": {},
   "outputs": [
    {
     "name": "stdout",
     "output_type": "stream",
     "text": [
      "Frame count :  330.0\n"
     ]
    }
   ],
   "source": [
    "# Loading the video\n",
    "cap = cv2.VideoCapture('video-assignment-1.mp4')\n",
    "if (cap.isOpened() == False):\n",
    "    print(\"Error opening video\")\n",
    "else:\n",
    "    frame_count = cap.get(7) #getting frame count\n",
    "    print('Frame count : ', frame_count) "
   ]
  },
  {
   "cell_type": "code",
   "execution_count": 21,
   "id": "02591641",
   "metadata": {},
   "outputs": [
    {
     "name": "stdout",
     "output_type": "stream",
     "text": [
      "Downloading frames ...\n",
      "Iframes successfully extracted.\n",
      "<module 'videokf' from 'C:\\\\Users\\\\Hp\\\\anaconda3\\\\lib\\\\site-packages\\\\videokf\\\\__init__.py'>\n"
     ]
    }
   ],
   "source": [
    "vf.extract_keyframes(\"video-assignment-1.mp4\")\n",
    "print(vf)"
   ]
  },
  {
   "cell_type": "code",
   "execution_count": null,
   "id": "833e4bce",
   "metadata": {},
   "outputs": [],
   "source": []
  }
 ],
 "metadata": {
  "kernelspec": {
   "display_name": "Python 3 (ipykernel)",
   "language": "python",
   "name": "python3"
  },
  "language_info": {
   "codemirror_mode": {
    "name": "ipython",
    "version": 3
   },
   "file_extension": ".py",
   "mimetype": "text/x-python",
   "name": "python",
   "nbconvert_exporter": "python",
   "pygments_lexer": "ipython3",
   "version": "3.9.12"
  }
 },
 "nbformat": 4,
 "nbformat_minor": 5
}
