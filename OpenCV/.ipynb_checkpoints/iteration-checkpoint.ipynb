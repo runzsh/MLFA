{
 "cells": [
  {
   "cell_type": "code",
   "execution_count": 1,
   "id": "9eb91e15",
   "metadata": {},
   "outputs": [
    {
     "name": "stdout",
     "output_type": "stream",
     "text": [
      "Frame Count :  330.0\n"
     ]
    }
   ],
   "source": [
    "import cv2\n",
    "# Create VideoCapture object to read the video frame by frame\n",
    "cap = cv2.VideoCapture('video-assignment-1.mp4')\n",
    "if (cap.isOpened() == False):\n",
    "    print(\"Error opening video\")\n",
    "else:\n",
    "    frame_count = cap.get(7) #get frame count\n",
    "    print('Frame Count : ', frame_count)\n",
    "    # Read until video is completed\n",
    "#     while(True):\n",
    "#         ret, frame = cap.read()\n",
    "#         cv2.imshow('frame',frame)\n",
    "#         if cv2.waitKey(5) & 0xFF == ord('q'):\n",
    "#             break\n",
    "cap.release()\n",
    "cv2.destroyAllWindows()"
   ]
  }
 ],
 "metadata": {
  "kernelspec": {
   "display_name": "Python 3 (ipykernel)",
   "language": "python",
   "name": "python3"
  },
  "language_info": {
   "codemirror_mode": {
    "name": "ipython",
    "version": 3
   },
   "file_extension": ".py",
   "mimetype": "text/x-python",
   "name": "python",
   "nbconvert_exporter": "python",
   "pygments_lexer": "ipython3",
   "version": "3.9.12"
  }
 },
 "nbformat": 4,
 "nbformat_minor": 5
}
