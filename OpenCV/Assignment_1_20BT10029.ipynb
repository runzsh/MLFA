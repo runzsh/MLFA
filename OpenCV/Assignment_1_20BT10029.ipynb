{
 "cells": [
  {
   "cell_type": "code",
   "execution_count": 3,
   "id": "49744a77",
   "metadata": {},
   "outputs": [
    {
     "name": "stdout",
     "output_type": "stream",
     "text": [
      "Collecting video-kf\n",
      "  Downloading video_kf-0.0.3-py3-none-any.whl (14 kB)\n",
      "Requirement already satisfied: requests>=2.22 in /Users/nishxntyxdxv/opt/anaconda3/lib/python3.9/site-packages (from video-kf) (2.27.1)\n",
      "Requirement already satisfied: numpy>=1.17 in /Users/nishxntyxdxv/opt/anaconda3/lib/python3.9/site-packages (from video-kf) (1.21.5)\n",
      "Requirement already satisfied: opencv-python>=4 in /Users/nishxntyxdxv/opt/anaconda3/lib/python3.9/site-packages (from video-kf) (4.6.0.66)\n",
      "Requirement already satisfied: certifi>=2017.4.17 in /Users/nishxntyxdxv/opt/anaconda3/lib/python3.9/site-packages (from requests>=2.22->video-kf) (2021.10.8)\n",
      "Requirement already satisfied: charset-normalizer~=2.0.0 in /Users/nishxntyxdxv/opt/anaconda3/lib/python3.9/site-packages (from requests>=2.22->video-kf) (2.0.4)\n",
      "Requirement already satisfied: urllib3<1.27,>=1.21.1 in /Users/nishxntyxdxv/opt/anaconda3/lib/python3.9/site-packages (from requests>=2.22->video-kf) (1.26.9)\n",
      "Requirement already satisfied: idna<4,>=2.5 in /Users/nishxntyxdxv/opt/anaconda3/lib/python3.9/site-packages (from requests>=2.22->video-kf) (3.3)\n",
      "Installing collected packages: video-kf\n",
      "Successfully installed video-kf-0.0.3\n",
      "Note: you may need to restart the kernel to use updated packages.\n"
     ]
    }
   ],
   "source": [
    "pip install video-kf"
   ]
  },
  {
   "cell_type": "code",
   "execution_count": 4,
   "id": "cd2185e3",
   "metadata": {},
   "outputs": [],
   "source": [
    "import cv2\n",
    "import numpy as np\n",
    "import videokf as vf"
   ]
  },
  {
   "cell_type": "markdown",
   "id": "d65eabff",
   "metadata": {},
   "source": [
    "Opening a video file, extracting and operating on its frames."
   ]
  },
  {
   "cell_type": "code",
   "execution_count": 5,
   "id": "b34ffc2f",
   "metadata": {},
   "outputs": [
    {
     "name": "stdout",
     "output_type": "stream",
     "text": [
      "Frame count :  330.0\n"
     ]
    }
   ],
   "source": [
    "# Loading the video\n",
    "cap = cv2.VideoCapture('video-assignment-1.mp4')\n",
    "if (cap.isOpened() == False):\n",
    "    print(\"Error opening video\")\n",
    "else:\n",
    "    frame_count = cap.get(7) #getting frame count\n",
    "    print('Frame count : ', frame_count) "
   ]
  },
  {
   "cell_type": "code",
   "execution_count": 7,
   "id": "02591641",
   "metadata": {},
   "outputs": [
    {
     "ename": "AttributeError",
     "evalue": "'NoneType' object has no attribute 'name'",
     "output_type": "error",
     "traceback": [
      "\u001b[0;31m---------------------------------------------------------------------------\u001b[0m",
      "\u001b[0;31mAttributeError\u001b[0m                            Traceback (most recent call last)",
      "Input \u001b[0;32mIn [7]\u001b[0m, in \u001b[0;36m<cell line: 1>\u001b[0;34m()\u001b[0m\n\u001b[0;32m----> 1\u001b[0m \u001b[43mvf\u001b[49m\u001b[38;5;241;43m.\u001b[39;49m\u001b[43mextract_keyframes\u001b[49m\u001b[43m(\u001b[49m\u001b[38;5;124;43m\"\u001b[39;49m\u001b[38;5;124;43mvideo-assignment-1.mp4\u001b[39;49m\u001b[38;5;124;43m\"\u001b[39;49m\u001b[43m)\u001b[49m\n",
      "File \u001b[0;32m~/opt/anaconda3/lib/python3.9/site-packages/videokf/extract_keyframes.py:34\u001b[0m, in \u001b[0;36mextract_keyframes\u001b[0;34m(video_file, method, output_dir_keyframes, dir_exe, ffmpeg_exe, ffprobe_exe, remove_frames_dir)\u001b[0m\n\u001b[1;32m     31\u001b[0m     ffprobe_exe \u001b[38;5;241m=\u001b[39m get_ff(\u001b[38;5;124m\"\u001b[39m\u001b[38;5;124mffprobe\u001b[39m\u001b[38;5;124m\"\u001b[39m, dir_exe)\n\u001b[1;32m     33\u001b[0m \u001b[38;5;66;03m# Extract frames\u001b[39;00m\n\u001b[0;32m---> 34\u001b[0m \u001b[43mget_keyframes\u001b[49m\u001b[43m(\u001b[49m\u001b[43mffmpeg_exe\u001b[49m\u001b[43m,\u001b[49m\u001b[43m \u001b[49m\u001b[43mffprobe_exe\u001b[49m\u001b[43m,\u001b[49m\u001b[43m \u001b[49m\u001b[43mvideo_file\u001b[49m\u001b[43m,\u001b[49m\u001b[43m \u001b[49m\u001b[43mmethod\u001b[49m\u001b[43m,\u001b[49m\u001b[43m \u001b[49m\u001b[43moutput_dir_keyframes\u001b[49m\u001b[43m,\u001b[49m\u001b[43m \u001b[49m\u001b[43mremove_frames_dir\u001b[49m\u001b[43m)\u001b[49m\n",
      "File \u001b[0;32m~/opt/anaconda3/lib/python3.9/site-packages/videokf/keyframe_manager/keyframe_extractor.py:52\u001b[0m, in \u001b[0;36mget_keyframes\u001b[0;34m(ffmpeg_exe, ffprobe_exe, video_file, method, output_dir, remove_frames_dir)\u001b[0m\n\u001b[1;32m     50\u001b[0m \u001b[38;5;66;03m# Compute the keyframe indices using the selected method\u001b[39;00m\n\u001b[1;32m     51\u001b[0m \u001b[38;5;28;01mif\u001b[39;00m method\u001b[38;5;241m==\u001b[39m\u001b[38;5;124m\"\u001b[39m\u001b[38;5;124miframes\u001b[39m\u001b[38;5;124m\"\u001b[39m:\n\u001b[0;32m---> 52\u001b[0m     \u001b[43mextract_frames\u001b[49m\u001b[43m(\u001b[49m\u001b[43mffmpeg_exe\u001b[49m\u001b[43m,\u001b[49m\u001b[43m \u001b[49m\u001b[43mvideo_file\u001b[49m\u001b[43m,\u001b[49m\u001b[43m \u001b[49m\u001b[43mframes_selected\u001b[49m\u001b[38;5;241;43m=\u001b[39;49m\u001b[43miframes\u001b[49m\u001b[43m,\u001b[49m\u001b[43m \u001b[49m\u001b[43moutput_dir\u001b[49m\u001b[38;5;241;43m=\u001b[39;49m\u001b[43moutput_dir\u001b[49m\u001b[43m,\u001b[49m\u001b[43m \u001b[49m\u001b[43mframe_type\u001b[49m\u001b[38;5;241;43m=\u001b[39;49m\u001b[43mmethod\u001b[49m\u001b[43m)\u001b[49m\n\u001b[1;32m     53\u001b[0m \u001b[38;5;28;01melse\u001b[39;00m:\n\u001b[1;32m     54\u001b[0m     \u001b[38;5;66;03m# For the rest of the methods it is necessary to extract all the frames in the video\u001b[39;00m\n\u001b[1;32m     55\u001b[0m     \u001b[38;5;66;03m# Extract the frames and store the directory where the frames are saved as a variable\u001b[39;00m\n\u001b[1;32m     56\u001b[0m     frames_dir \u001b[38;5;241m=\u001b[39m extract_frames(ffmpeg_exe, video_file)\n",
      "File \u001b[0;32m~/opt/anaconda3/lib/python3.9/site-packages/videokf/utils/vidutils.py:55\u001b[0m, in \u001b[0;36mextract_frames\u001b[0;34m(ffmpeg_exe, video_file, frames_selected, output_dir, frame_quality, frame_type)\u001b[0m\n\u001b[1;32m     53\u001b[0m     \u001b[38;5;28mprint\u001b[39m(\u001b[38;5;124mf\u001b[39m\u001b[38;5;124m\"\u001b[39m\u001b[38;5;132;01m{\u001b[39;00mframe_type\u001b[38;5;241m.\u001b[39mcapitalize()\u001b[38;5;132;01m}\u001b[39;00m\u001b[38;5;124m successfully extracted.\u001b[39m\u001b[38;5;124m\"\u001b[39m)\n\u001b[1;32m     54\u001b[0m \u001b[38;5;28;01melse\u001b[39;00m:\n\u001b[0;32m---> 55\u001b[0m     \u001b[38;5;28mprint\u001b[39m(\u001b[38;5;124mf\u001b[39m\u001b[38;5;124m\"\u001b[39m\u001b[38;5;124m!!! The output directory \u001b[39m\u001b[38;5;124m'\u001b[39m\u001b[38;5;132;01m{\u001b[39;00mframes_dir\u001b[38;5;241m.\u001b[39mname\u001b[38;5;132;01m}\u001b[39;00m\u001b[38;5;124m'\u001b[39m\u001b[38;5;124m is not empty. No \u001b[39m\u001b[38;5;132;01m{\u001b[39;00mframe_type\u001b[38;5;132;01m}\u001b[39;00m\u001b[38;5;124m were extracted. !!!\u001b[39m\u001b[38;5;124m\"\u001b[39m)\n\u001b[1;32m     57\u001b[0m \u001b[38;5;28;01mreturn\u001b[39;00m frames_dir\n",
      "\u001b[0;31mAttributeError\u001b[0m: 'NoneType' object has no attribute 'name'"
     ]
    }
   ],
   "source": [
    "vf.extract_keyframes(\"video-assignment-1.mp4\")\n",
    "print(vf)"
   ]
  }
 ],
 "metadata": {
  "kernelspec": {
   "display_name": "Python 3 (ipykernel)",
   "language": "python",
   "name": "python3"
  },
  "language_info": {
   "codemirror_mode": {
    "name": "ipython",
    "version": 3
   },
   "file_extension": ".py",
   "mimetype": "text/x-python",
   "name": "python",
   "nbconvert_exporter": "python",
   "pygments_lexer": "ipython3",
   "version": "3.9.12"
  }
 },
 "nbformat": 4,
 "nbformat_minor": 5
}
