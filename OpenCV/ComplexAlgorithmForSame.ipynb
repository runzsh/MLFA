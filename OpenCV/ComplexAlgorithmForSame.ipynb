{
 "cells": [
  {
   "cell_type": "code",
   "execution_count": 1,
   "id": "829dd850",
   "metadata": {},
   "outputs": [],
   "source": [
    "import cv2\n",
    "import os\n",
    "from matplotlib import pyplot as plt\n",
    "import numpy as np\n",
    "cap = cv2.VideoCapture(\"video-assignment-1.mp4\")\n",
    "frame_list = []"
   ]
  },
  {
   "cell_type": "code",
   "execution_count": 2,
   "id": "bcc0c1b7",
   "metadata": {},
   "outputs": [],
   "source": [
    "try:\n",
    "    if not os.path.exists('data'):\n",
    "        os.makedirs('data')\n",
    "except OSError:\n",
    "    print(\"Error cant make directories\")"
   ]
  },
  {
   "cell_type": "code",
   "execution_count": 3,
   "id": "3dceeab7",
   "metadata": {},
   "outputs": [],
   "source": [
    "cframe = 0\n",
    "ret, frame= cap.read()\n",
    "while(ret):  \n",
    "        name = './data/' + str(cframe) + '.jpg'\n",
    "        cv2.imwrite(name,frame)\n",
    "        frame_list.append(frame)\n",
    "        \n",
    "        ret, frame= cap.read()\n",
    "        cframe += 1"
   ]
  },
  {
   "cell_type": "code",
   "execution_count": 4,
   "id": "2bf56121",
   "metadata": {},
   "outputs": [],
   "source": [
    "images = {}\n",
    "index = {}\n",
    "\n",
    "\n",
    "import glob\n",
    "\n",
    "for imagePath in glob.glob('./data/*.jpg'):\n",
    "    filename = imagePath[imagePath.rfind(\"/\") + 1:]\n",
    "                  \n",
    "    image = cv2.imread(imagePath,1)\n",
    "    images[filename] = cv2.cvtColor(image, cv2.COLOR_BGR2RGB)\n",
    "\n",
    "    hist = cv2.calcHist([image],[0,1,2],None,[8,8,8],[0,256,0,256,0,256])\n",
    "    hist = cv2.normalize(hist,None).flatten()\n",
    "    index[filename] = hist"
   ]
  },
  {
   "cell_type": "code",
   "execution_count": 5,
   "id": "6185cc13",
   "metadata": {},
   "outputs": [],
   "source": [
    "OPENCV_METHODS = (\n",
    "    (cv2.HISTCMP_CORREL ),\n",
    "    (cv2.HISTCMP_CHISQR),\n",
    "    (cv2.HISTCMP_INTERSECT), \n",
    "    (cv2.HISTCMP_BHATTACHARYYA))"
   ]
  },
  {
   "cell_type": "code",
   "execution_count": 6,
   "id": "001c4f38",
   "metadata": {},
   "outputs": [],
   "source": [
    "for method in OPENCV_METHODS:\n",
    "    results = {}\n",
    "    reverse = False\n",
    "\n",
    "    if method in (cv2.HISTCMP_CORREL, cv2.HISTCMP_INTERSECT):\n",
    "        reverse = True"
   ]
  },
  {
   "cell_type": "code",
   "execution_count": 7,
   "id": "6d3cd8c2",
   "metadata": {},
   "outputs": [],
   "source": [
    "for (k, hist) in index.items():\n",
    "        d = cv2.compareHist(index[k], hist, cv2.HISTCMP_INTERSECT)\n",
    "        results[k] = d\n",
    "#         print(d)"
   ]
  },
  {
   "cell_type": "code",
   "execution_count": 20,
   "id": "8969e0b0",
   "metadata": {},
   "outputs": [
    {
     "name": "stdout",
     "output_type": "stream",
     "text": [
      "variance 0.0019474463014759367\n",
      "threshold value 1.3265129189654263\n"
     ]
    }
   ],
   "source": [
    "for (k,hist) in index.items():\n",
    "    mean__ = np.mean(index[k], dtype=np.float64)\n",
    "\n",
    "\n",
    "for (k,hist) in index.items():\n",
    "    variance = np.var(index[k], dtype=np.float64)\n",
    "        \n",
    "\n",
    "print(\"variance\", variance)\n",
    "        \n",
    "standard_deviation = np.sqrt(variance)\n",
    "th = mean__ + standard_deviation + 1.28\n",
    "print(\"threshold value\", th)"
   ]
  },
  {
   "cell_type": "code",
   "execution_count": 22,
   "id": "8bff81e6",
   "metadata": {},
   "outputs": [
    {
     "name": "stdout",
     "output_type": "stream",
     "text": [
      "20\n"
     ]
    }
   ],
   "source": [
    "try:\n",
    "    if not os.path.exists('keyframes'):\n",
    "        os.makedirs('keyframes')\n",
    "except OSError:\n",
    "    print(\"Error cant make directories\")\n",
    "\n",
    "cap1 = cv2.VideoCapture(\"video-assignment-1.mp4\")\n",
    "cframe1=0\n",
    "for (k,hist) in index.items():\n",
    "        d = cv2.compareHist(index[k], hist, cv2.HISTCMP_INTERSECT)\n",
    "        ret, keyframe = cap1.read()\n",
    "        \n",
    "        if (d > th):\n",
    "                name = './keyframes/' + str(cframe1) + '.jpg'\n",
    "#                 print(\"creating\" +name)\n",
    "                cv2.imwrite(name, keyframe )\n",
    "                cframe1+=1\n",
    "#         else :\n",
    "#             print(d, th)\n",
    "\n",
    "print(cframe1)"
   ]
  }
 ],
 "metadata": {
  "kernelspec": {
   "display_name": "Python 3 (ipykernel)",
   "language": "python",
   "name": "python3"
  },
  "language_info": {
   "codemirror_mode": {
    "name": "ipython",
    "version": 3
   },
   "file_extension": ".py",
   "mimetype": "text/x-python",
   "name": "python",
   "nbconvert_exporter": "python",
   "pygments_lexer": "ipython3",
   "version": "3.9.12"
  }
 },
 "nbformat": 4,
 "nbformat_minor": 5
}
