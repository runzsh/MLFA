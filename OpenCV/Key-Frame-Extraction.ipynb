{
 "cells": [
  {
   "cell_type": "code",
   "execution_count": 1,
   "metadata": {},
   "outputs": [],
   "source": [
    "import cv2\n",
    "import numpy as np"
   ]
  },
  {
   "cell_type": "markdown",
   "metadata": {},
   "source": [
    "**`Step 1`**"
   ]
  },
  {
   "cell_type": "markdown",
   "metadata": {},
   "source": [
    "`Reading of original video file and conversion to grayscaled version for the purposes of the calculations.`"
   ]
  },
  {
   "cell_type": "code",
   "execution_count": 2,
   "metadata": {
    "scrolled": false
   },
   "outputs": [],
   "source": [
    "# Function defined to read and store og frames as well as processed frames\n",
    "def framification(video):\n",
    "    fr_og = []\n",
    "    fr_edge =[]\n",
    "    \n",
    "    cap = cv2.VideoCapture(video)\n",
    "    while (cap.isOpened()):\n",
    "        ret,frame = cap.read()\n",
    "        if ret == True:\n",
    "            # Converting the frames from BGR to Grayscale\n",
    "            grayed = cv2.cvtColor(frame,cv2.COLOR_BGR2GRAY)\n",
    "            \n",
    "            # Calculating mean of the grayed image\n",
    "            gmean = np.average(grayed)\n",
    "            \n",
    "            # Extrating edges using Canny Edge detection method\n",
    "            canned = cv2.Canny(grayed, 0.66*gmean, 10*gmean)\n",
    "            \n",
    "            fr_og.append(frame)#Appending the read frame\n",
    "            fr_edge.append(canned)#Appending the edge extracted frames\n",
    "        else:\n",
    "            break\n",
    "    \n",
    "    # Releasing the resources\n",
    "    cap.release()\n",
    "    \n",
    "    return fr_og,fr_edge\n",
    "\n",
    "ogframes, edgyframes = framification('video-assignment-1.mp4')"
   ]
  },
  {
   "cell_type": "code",
   "execution_count": 3,
   "metadata": {},
   "outputs": [],
   "source": [
    "diff = []\n",
    "for i in range(0,len(edgyframes)-1):\n",
    "    diff.append(cv2.absdiff(edgyframes[i], edgyframes[i+1]))"
   ]
  },
  {
   "cell_type": "markdown",
   "metadata": {},
   "source": [
    "**`Step 2`**"
   ]
  },
  {
   "cell_type": "markdown",
   "metadata": {},
   "source": [
    "`Since each image is nothing but an array to a computer. So multiple images would simply mean bunch of multiple arrays.`"
   ]
  },
  {
   "cell_type": "code",
   "execution_count": 4,
   "metadata": {},
   "outputs": [
    {
     "name": "stdout",
     "output_type": "stream",
     "text": [
      "Mean Difference:  0.26067452731868457\n",
      "Standard Deviation:  8.148868219411696\n"
     ]
    }
   ],
   "source": [
    "'''\n",
    "Each image has 3 arrays namely for B, R, G defining the color of the image\n",
    "we need to calculate the mean among those & hence we call it intra-array mean\n",
    "'''\n",
    "\n",
    "# Intra-array mean and standard deviation\n",
    "u = np.mean(diff)\n",
    "stdev = np.std(diff)\n",
    "print(\"Mean Difference: \", u)\n",
    "print(\"Standard Deviation: \", stdev)"
   ]
  },
  {
   "cell_type": "markdown",
   "metadata": {},
   "source": [
    "**`Step 3`**"
   ]
  },
  {
   "cell_type": "markdown",
   "metadata": {},
   "source": [
    "`Calculation of Threshold to decide Key Frames.`"
   ]
  },
  {
   "cell_type": "code",
   "execution_count": 12,
   "metadata": {},
   "outputs": [
    {
     "name": "stdout",
     "output_type": "stream",
     "text": [
      "Threshold for parametric value k = 4 is 32.85614740496547\n"
     ]
    }
   ],
   "source": [
    "# Defining 'k' as a parameter\n",
    "k = 4\n",
    "\n",
    "# Defining the standard threshold value for the project/global threshold value\n",
    "ts = u + (k * stdev)\n",
    "\n",
    "print('Threshold for parametric value k =', k, 'is',ts)"
   ]
  },
  {
   "cell_type": "markdown",
   "metadata": {},
   "source": [
    "**`Step 4`**"
   ]
  },
  {
   "cell_type": "markdown",
   "metadata": {},
   "source": [
    "`Extracting the key frames`"
   ]
  },
  {
   "cell_type": "code",
   "execution_count": 13,
   "metadata": {},
   "outputs": [],
   "source": [
    "a_fr = []\n",
    "for i in range(len(diff)):\n",
    "    u_temp = np.mean(diff[i])\n",
    "    stdev_temp = np.std(diff[i])\n",
    "    ts_temp = u_temp + (k * stdev_temp)\n",
    "#     print(ts_temp)\n",
    "    a_fr.append([i, ts_temp])"
   ]
  },
  {
   "cell_type": "code",
   "execution_count": 14,
   "metadata": {},
   "outputs": [],
   "source": [
    "imp_fr = []\n",
    "for i, ts_temp in(a_fr):\n",
    "    if ts_temp >= ts:\n",
    "        imp_fr.append([i, ts_temp])"
   ]
  },
  {
   "cell_type": "code",
   "execution_count": 15,
   "metadata": {},
   "outputs": [],
   "source": [
    "key_fr = []\n",
    "for i,_ in imp_fr:\n",
    "    key_fr.append(ogframes[i])"
   ]
  },
  {
   "cell_type": "code",
   "execution_count": 16,
   "metadata": {
    "scrolled": true
   },
   "outputs": [
    {
     "name": "stdout",
     "output_type": "stream",
     "text": [
      "Count of Key frames: 101\n"
     ]
    }
   ],
   "source": [
    "# Keeping a count of key frames extracted\n",
    "count = 0\n",
    "for i in range(len(key_fr)):\n",
    "    count += 1\n",
    "print('Count of Key frames:', count)"
   ]
  },
  {
   "cell_type": "code",
   "execution_count": 17,
   "metadata": {},
   "outputs": [
    {
     "name": "stdout",
     "output_type": "stream",
     "text": [
      "330\n",
      "101\n"
     ]
    }
   ],
   "source": [
    "print(len(edgyframes))\n",
    "print(len(key_fr))"
   ]
  },
  {
   "cell_type": "code",
   "execution_count": 11,
   "metadata": {},
   "outputs": [],
   "source": [
    "# # Writing the key-frames to a folder\n",
    "# for i in range(len(key_fr)):\n",
    "#     cv2.imwrite('keyFrs/key_'+str(i+1)+'.png',key_fr[i])"
   ]
  }
 ],
 "metadata": {
  "kernelspec": {
   "display_name": "Python 3 (ipykernel)",
   "language": "python",
   "name": "python3"
  },
  "language_info": {
   "codemirror_mode": {
    "name": "ipython",
    "version": 3
   },
   "file_extension": ".py",
   "mimetype": "text/x-python",
   "name": "python",
   "nbconvert_exporter": "python",
   "pygments_lexer": "ipython3",
   "version": "3.9.12"
  }
 },
 "nbformat": 4,
 "nbformat_minor": 4
}
