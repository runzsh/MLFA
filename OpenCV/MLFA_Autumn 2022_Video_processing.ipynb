{
 "cells": [
  {
   "cell_type": "code",
   "execution_count": 1,
   "id": "cd2185e3",
   "metadata": {
    "id": "cd2185e3"
   },
   "outputs": [],
   "source": [
    "import cv2\n",
    "import numpy as np\n",
    "from matplotlib import pyplot as plt"
   ]
  },
  {
   "cell_type": "markdown",
   "id": "d65eabff",
   "metadata": {
    "id": "d65eabff"
   },
   "source": [
    "**`Opening a video file, getting information out of it`**"
   ]
  },
  {
   "cell_type": "code",
   "execution_count": 2,
   "id": "b34ffc2f",
   "metadata": {
    "id": "b34ffc2f",
    "outputId": "92b667dc-2433-4127-eeeb-e1dca0158217"
   },
   "outputs": [
    {
     "name": "stdout",
     "output_type": "stream",
     "text": [
      "Frames per second :  29.97002997002997 FPS\n",
      "Frame count :  330.0\n",
      "Frame size :  (3840, 2160)\n"
     ]
    }
   ],
   "source": [
    "# Create VideoCapture object to read the video frame by frame\n",
    "cap = cv2.VideoCapture('video-assignment-1.mp4')\n",
    "\n",
    "# isOpened() - returns true if video writer has succesfully initialized\n",
    "# Checks if the video file is accessed\n",
    "if (cap.isOpened() == False):\n",
    "    print(\"Error opening video\")\n",
    "    \n",
    "else:\n",
    "    # Assigning video parameters to proper variables\n",
    "    \n",
    "    #get frame rate\n",
    "    fps = cap.get(5)\n",
    "    #get frame count\n",
    "    frame_count = cap.get(7) \n",
    "    #get frame width\n",
    "    frame_width = int(cap.get(3))\n",
    "    #get frame height\n",
    "    frame_height = int(cap.get(4))                \n",
    "    \n",
    "    # Creating a tuple to store frame dimensions\n",
    "    frame_size = (frame_width,frame_height)\n",
    "    \n",
    "    # Printing the results\n",
    "    print('Frames per second : ', fps,'FPS')\n",
    "    print('Frame count : ', frame_count) \n",
    "    print('Frame size : ', frame_size)"
   ]
  },
  {
   "cell_type": "markdown",
   "id": "a3582fa3",
   "metadata": {},
   "source": [
    "**`Accessing a video file and operating on its frames, some edge detection operations`**"
   ]
  },
  {
   "cell_type": "code",
   "execution_count": 3,
   "id": "cb9f7890",
   "metadata": {
    "id": "cb9f7890"
   },
   "outputs": [],
   "source": [
    "i=0\n",
    "\n",
    "# Running this loop till video is accessible, i.e. while it doesn't reach end\n",
    "while(cap.isOpened() and i<5):\n",
    "    \"\"\"\n",
    "    get frame along with a boolean value\n",
    "    ret - contains the boolean value of cap.read(), 1 if returned, 0 is ended\n",
    "    frame - contains the frame\n",
    "    \"\"\"\n",
    "    ret, frame = cap.read()\n",
    "    \n",
    "    # Operating on a frame, if cap.read() returned True\n",
    "    if ret == True:\n",
    "        \n",
    "        # storing a frame in the form of image, giving it a particular name\n",
    "        cv2.imwrite('frame_'+str(i+1)+'.png',frame)\n",
    "        # running edge detector with min and max thresholds\n",
    "        canny = cv2.Canny(frame,10,100)\n",
    "        # Storing the edge-detected image\n",
    "        cv2.imwrite('edg_frame_'+str(i+1)+'.png',canny)\n",
    "        \n",
    "        #other transformations/operations on individual frames\n",
    "        i+=1"
   ]
  },
  {
   "cell_type": "markdown",
   "id": "dc447015",
   "metadata": {
    "id": "dc447015"
   },
   "source": [
    "**`Writing a video file, flipped version of original`**"
   ]
  },
  {
   "cell_type": "code",
   "execution_count": 4,
   "id": "086e19e6",
   "metadata": {
    "id": "086e19e6"
   },
   "outputs": [],
   "source": [
    "# Defining a VideoWriter object\n",
    "fourcc = cv2.VideoWriter_fourcc(*'MPEG')\n",
    "out = cv2.VideoWriter('output_vid.mkv', fourcc, 24, frame_size)"
   ]
  },
  {
   "cell_type": "code",
   "execution_count": 5,
   "id": "ebce87f7",
   "metadata": {
    "id": "ebce87f7",
    "outputId": "f6d160d9-f6b4-4389-c877-93319cc71d8d"
   },
   "outputs": [
    {
     "name": "stdout",
     "output_type": "stream",
     "text": [
      "Stream disconnected\n"
     ]
    }
   ],
   "source": [
    "# Checking if video has not ended\n",
    "while(cap.isOpened()):\n",
    "    # Storing frame as well as boolean value returned by cap.read()\n",
    "    ret, frame = cap.read()\n",
    "    \n",
    "    # Operating on frame if cap.read() has returned True\n",
    "    if ret == True:\n",
    "        '''\n",
    "        Flipping the returned frame\n",
    "        Takes source and flipcode as arguements\n",
    "        \n",
    "        0  - Flipping the frame vertically, i.e. taking mirror image about xy plane\n",
    "        1  - Flipping the frame Horizontally i.e. taking mirror image about xz plane\n",
    "        -1 - Combining 0 and 1\n",
    "        '''\n",
    "        frame = cv2.flip(frame,0)\n",
    "\n",
    "        #writing frames, one by one, to the output video\n",
    "        out.write(frame)\n",
    "    else:\n",
    "        print('Stream disconnected')\n",
    "        break"
   ]
  },
  {
   "cell_type": "markdown",
   "id": "ef808cc7",
   "metadata": {},
   "source": [
    "**`Releasing the captured video sources`**"
   ]
  },
  {
   "cell_type": "code",
   "execution_count": 6,
   "id": "6a098a0d",
   "metadata": {
    "id": "6a098a0d"
   },
   "outputs": [],
   "source": [
    "cap.release()\n",
    "out.release()\n",
    "cv2.destroyAllWindows()"
   ]
  }
 ],
 "metadata": {
  "colab": {
   "collapsed_sections": [],
   "name": "MLFA_Autumn 2022_Video_processing.ipynb",
   "provenance": []
  },
  "kernelspec": {
   "display_name": "Python 3 (ipykernel)",
   "language": "python",
   "name": "python3"
  },
  "language_info": {
   "codemirror_mode": {
    "name": "ipython",
    "version": 3
   },
   "file_extension": ".py",
   "mimetype": "text/x-python",
   "name": "python",
   "nbconvert_exporter": "python",
   "pygments_lexer": "ipython3",
   "version": "3.9.12"
  }
 },
 "nbformat": 4,
 "nbformat_minor": 5
}
