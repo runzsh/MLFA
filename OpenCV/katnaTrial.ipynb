{
 "cells": [
  {
   "cell_type": "code",
   "execution_count": 4,
   "id": "349937fb",
   "metadata": {},
   "outputs": [
    {
     "name": "stdout",
     "output_type": "stream",
     "text": [
      "Input video file path = ./video-assignment-1.mp4\n",
      "Completed processing for :  ./video-assignment-1.mp4\n"
     ]
    }
   ],
   "source": [
    "from Katna.video import Video\n",
    "from Katna.writer import KeyFrameDiskWriter\n",
    "import os\n",
    "\n",
    "# For windows, the below if condition is must.\n",
    "if __name__ == \"__main__\":\n",
    "\n",
    "  # initialize video module\n",
    "  vd = Video()\n",
    "\n",
    "  # number of images to be returned\n",
    "  no_of_frames_to_returned = 40\n",
    "\n",
    "  # initialize diskwriter to save data at desired location\n",
    "  diskwriter = KeyFrameDiskWriter(location=\"./keyFrs\")\n",
    "\n",
    "  # Video file path\n",
    "  video_file_path = os.path.join(\".\", \"video-assignment-1.mp4\")\n",
    "\n",
    "  print(f\"Input video file path = {video_file_path}\")\n",
    "\n",
    "  # extract keyframes and process data with diskwriter\n",
    "  vd.extract_video_keyframes(\n",
    "       no_of_frames=no_of_frames_to_returned, file_path=video_file_path,\n",
    "       writer=diskwriter\n",
    "  )"
   ]
  }
 ],
 "metadata": {
  "kernelspec": {
   "display_name": "Python 3 (ipykernel)",
   "language": "python",
   "name": "python3"
  },
  "language_info": {
   "codemirror_mode": {
    "name": "ipython",
    "version": 3
   },
   "file_extension": ".py",
   "mimetype": "text/x-python",
   "name": "python",
   "nbconvert_exporter": "python",
   "pygments_lexer": "ipython3",
   "version": "3.9.12"
  }
 },
 "nbformat": 4,
 "nbformat_minor": 5
}
