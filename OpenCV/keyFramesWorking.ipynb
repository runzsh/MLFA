{
 "cells": [
  {
   "cell_type": "code",
   "execution_count": 34,
   "id": "b1bb94b6",
   "metadata": {},
   "outputs": [
    {
     "name": "stdout",
     "output_type": "stream",
     "text": [
      "Count of Key frames generated:  10\n"
     ]
    }
   ],
   "source": [
    "import cv2\n",
    "import numpy as np\n",
    "\n",
    "video_path = \"sample.mp4\"\n",
    "\n",
    "\"\"\"\n",
    "    Threshold is a functional of input video/image\n",
    "    Threshold also depends on resolution of the image\n",
    "    You may need to adjust this threshold\n",
    "    to keep control over number of keyframes\n",
    "\"\"\"\n",
    "\n",
    "# Defining threshold\n",
    "key_frame_thresh = 6111125\n",
    "\n",
    "# Keeping a count of KeyFrames\n",
    "count = 0\n",
    "\n",
    "# Creating a capture object\n",
    "cap = cv2.VideoCapture(video_path)\n",
    "\n",
    "# Read the first frame\n",
    "ret, prev_frame = cap.read()\n",
    "\n",
    "while ret:\n",
    "    ret, curr_frame = cap.read()\n",
    "\n",
    "    if ret:\n",
    "        # Keeping a count of number of pixels that changed\n",
    "        diff = cv2.absdiff(curr_frame, prev_frame)\n",
    "        diff_non_zero_count = np.count_nonzero(diff)\n",
    "#         print(diff_non_zero_count)\n",
    "        \n",
    "        if diff_non_zero_count > key_frame_thresh:\n",
    "            cv2.imwrite('keyFrs/key_'+str(count)+'.png', curr_frame)\n",
    "            count += 1\n",
    "        prev_frame = curr_frame\n",
    "        \n",
    "#         p = np.count_nonzero(prev_frame)\n",
    "#         i = np.count_nonzero(curr_frame)\n",
    "#         print(diff_non_zero_count, p, i)\n",
    "#         if diff_non_zero_count != 0 and max(p, i) != 0 and diff_non_zero_count/max(p, i) > 0.5:\n",
    "# #             cv2.imwrite('keyFrs/key_'+str(count)+'.png', curr_frame)\n",
    "#             count += 1\n",
    "#         prev_frame = curr_frame\n",
    "        \n",
    "print(\"Count of Key frames generated: \", count)"
   ]
  },
  {
   "cell_type": "code",
   "execution_count": 2,
   "id": "3fc48c9c",
   "metadata": {},
   "outputs": [],
   "source": [
    "cap.release()"
   ]
  }
 ],
 "metadata": {
  "kernelspec": {
   "display_name": "Python 3 (ipykernel)",
   "language": "python",
   "name": "python3"
  },
  "language_info": {
   "codemirror_mode": {
    "name": "ipython",
    "version": 3
   },
   "file_extension": ".py",
   "mimetype": "text/x-python",
   "name": "python",
   "nbconvert_exporter": "python",
   "pygments_lexer": "ipython3",
   "version": "3.9.12"
  }
 },
 "nbformat": 4,
 "nbformat_minor": 5
}
